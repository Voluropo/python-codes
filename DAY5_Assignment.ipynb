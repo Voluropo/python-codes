{
 "cells": [
  {
   "cell_type": "code",
   "execution_count": null,
   "id": "159f9634",
   "metadata": {},
   "outputs": [],
   "source": [
    "load = 23\n",
    "load2 = int(input('load weight:'))\n",
    "if load2 <= load:\n",
    "    print('you are free to go')\n",
    "elif load2 <= 30:\n",
    "    print('you have to pay a fine of 500.')\n",
    "elif load2 > 30 and load2 <= 50:\n",
    "    print('you have to pay a fine 1000.')\n",
    "elif load2 > 50 and load2 <= 75:\n",
    "    print('you have to pay a fine of 1500.')\n",
    "elif load2 > 75 and load2 <= 100:\n",
    "    print('you have to pay a fine of 2000.')\n",
    "else:\n",
    "    print('take your load to the cargo space... thank you for your understanding.')"
   ]
  },
  {
   "cell_type": "code",
   "execution_count": null,
   "id": "647a418f",
   "metadata": {},
   "outputs": [],
   "source": []
  }
 ],
 "metadata": {
  "kernelspec": {
   "display_name": "Python 3",
   "language": "python",
   "name": "python3"
  },
  "language_info": {
   "codemirror_mode": {
    "name": "ipython",
    "version": 3
   },
   "file_extension": ".py",
   "mimetype": "text/x-python",
   "name": "python",
   "nbconvert_exporter": "python",
   "pygments_lexer": "ipython3",
   "version": "3.8.8"
  }
 },
 "nbformat": 4,
 "nbformat_minor": 5
}
