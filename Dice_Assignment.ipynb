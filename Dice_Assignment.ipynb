{
 "cells": [
  {
   "cell_type": "code",
   "execution_count": 1,
   "id": "57e8ca0f",
   "metadata": {},
   "outputs": [
    {
     "name": "stdout",
     "output_type": "stream",
     "text": [
      "['BPF', 'LOG4', 'NV_MAGICCONST', 'RECIP_BPF', 'Random', 'SG_MAGICCONST', 'SystemRandom', 'TWOPI', '_Sequence', '_Set', '__all__', '__builtins__', '__cached__', '__doc__', '__file__', '__loader__', '__name__', '__package__', '__spec__', '_accumulate', '_acos', '_bisect', '_ceil', '_cos', '_e', '_exp', '_inst', '_log', '_os', '_pi', '_random', '_repeat', '_sha512', '_sin', '_sqrt', '_test', '_test_generator', '_urandom', '_warn', 'betavariate', 'choice', 'choices', 'expovariate', 'gammavariate', 'gauss', 'getrandbits', 'getstate', 'lognormvariate', 'normalvariate', 'paretovariate', 'randint', 'random', 'randrange', 'sample', 'seed', 'setstate', 'shuffle', 'triangular', 'uniform', 'vonmisesvariate', 'weibullvariate']\n"
     ]
    }
   ],
   "source": [
    "import random\n",
    "print (dir(random))"
   ]
  },
  {
   "cell_type": "code",
   "execution_count": 11,
   "id": "213beda9",
   "metadata": {},
   "outputs": [
    {
     "data": {
      "text/plain": [
       "1"
      ]
     },
     "execution_count": 11,
     "metadata": {},
     "output_type": "execute_result"
    }
   ],
   "source": [
    "random.randint(1,7)\n",
    "               "
   ]
  },
  {
   "cell_type": "code",
   "execution_count": 10,
   "id": "9a36084a",
   "metadata": {},
   "outputs": [],
   "source": [
    "dice = [1,2,3,4,5,6]"
   ]
  },
  {
   "cell_type": "code",
   "execution_count": 7,
   "id": "cceb5ade",
   "metadata": {},
   "outputs": [],
   "source": [
    "random.shuffle(dice)"
   ]
  },
  {
   "cell_type": "code",
   "execution_count": 8,
   "id": "e5017dea",
   "metadata": {},
   "outputs": [
    {
     "data": {
      "text/plain": [
       "[2, 5, 1, 6, 3, 4]"
      ]
     },
     "execution_count": 8,
     "metadata": {},
     "output_type": "execute_result"
    }
   ],
   "source": [
    "dice"
   ]
  },
  {
   "cell_type": "code",
   "execution_count": 1,
   "id": "b3d13b6e",
   "metadata": {},
   "outputs": [
    {
     "name": "stdin",
     "output_type": "stream",
     "text": [
      "Enter your name: vitor\n",
      "Enter your name: vitor\n"
     ]
    },
    {
     "name": "stdout",
     "output_type": "stream",
     "text": [
      "vitor is the winner and the dice number is 7\n",
      "the dice number of the loser is 1\n",
      "the total score of vitor is 7\n",
      "the total score of vitor is 1\n",
      "vitor is the winner and the dice number is 4\n",
      "the dice number of the loser is 2\n",
      "the total score of vitor is 9\n",
      "the total score of vitor is 9\n",
      "vitor is the winner and the dice number is 3\n",
      "the dice number of the loser is 2\n",
      "the total score of vitor is 11\n",
      "the total score of vitor is 11\n",
      "vitor is the winner and the dice number is 6\n",
      "the dice number of the loser is 5\n",
      "the total score of vitor is 16\n",
      "the total score of vitor is 16\n",
      "vitor is the winner and the dice number is 2\n",
      "the dice number of the loser is 1\n",
      "the total score of vitor is 17\n",
      "the total score of vitor is 17\n",
      "vitor is the overall winner and total point is 43 and the losing point is 43\n"
     ]
    }
   ],
   "source": [
    "import random\n",
    "def dice_game():\n",
    "    player1 = input('Enter your name:')\n",
    "    player2 = input('Enter your name:')\n",
    "    counter = 1\n",
    "    score1 = 0\n",
    "    score2 = 0\n",
    "    score1_list = []\n",
    "    score2_list = []\n",
    "    while counter <=5:\n",
    "        dice1 = random.randint(1,7)\n",
    "        dice2 = random.randint(1,7)\n",
    "        if dice1 > dice2:\n",
    "            score1_list.append(score1)\n",
    "            score2_list.append(score2)\n",
    "            print(f'{player1} is the winner and the dice number is {dice1}')\n",
    "            print(f'the dice number of the loser is {dice2}')\n",
    "            score1 = score1 + dice1\n",
    "            score2 = score2 +dice2\n",
    "            print(f'the total score of {player1} is {score2}')\n",
    "            print(f'the total score of {player2} is {score2}')\n",
    "    \n",
    "        else:\n",
    "            score1_list.append(score1)\n",
    "            score2_list.append(score2)\n",
    "            print(f'{player2} is the winner and the dice number is {dice2}')\n",
    "            print(f'the dice number of the loser is {dice1}')\n",
    "            score1 = score1 + dice1\n",
    "            score2 = score2 +dice2\n",
    "            print(f'the total score of {player2} is {score2}')\n",
    "            print(f'the total score of {player1} is {score1}')\n",
    "        counter +=1\n",
    "    if sum(score1_list) > sum(score2_list):\n",
    "        print(f'{player2} is the overall winner and total point is {sum(score1_list)} and the losing point is {sum(score2_list)}')\n",
    "    else:\n",
    "        print(f'{player2} is the overall winner and total point is {sum(score2_list)} and the losing point is {sum(score2_list)}')\n",
    "dice_game()"
   ]
  },
  {
   "cell_type": "code",
   "execution_count": null,
   "id": "cef4084d",
   "metadata": {},
   "outputs": [],
   "source": []
  },
  {
   "cell_type": "code",
   "execution_count": null,
   "id": "6101e408",
   "metadata": {},
   "outputs": [],
   "source": []
  },
  {
   "cell_type": "code",
   "execution_count": null,
   "id": "d8277d4d",
   "metadata": {},
   "outputs": [],
   "source": []
  }
 ],
 "metadata": {
  "kernelspec": {
   "display_name": "Python 3",
   "language": "python",
   "name": "python3"
  },
  "language_info": {
   "codemirror_mode": {
    "name": "ipython",
    "version": 3
   },
   "file_extension": ".py",
   "mimetype": "text/x-python",
   "name": "python",
   "nbconvert_exporter": "python",
   "pygments_lexer": "ipython3",
   "version": "3.8.8"
  }
 },
 "nbformat": 4,
 "nbformat_minor": 5
}
