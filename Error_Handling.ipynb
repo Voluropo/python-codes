{
 "cells": [
  {
   "cell_type": "code",
   "execution_count": 20,
   "id": "a93ed4f3-e02f-4a6e-97ca-fd79ad82476a",
   "metadata": {},
   "outputs": [
    {
     "name": "stdin",
     "output_type": "stream",
     "text": [
      "Enter your first number 0\n",
      "Enter your second number 0\n",
      "Choose your desired operation(+,-,/,*) /\n"
     ]
    },
    {
     "name": "stdout",
     "output_type": "stream",
     "text": [
      "You cannot divide a number by zero\n",
      "well done\n"
     ]
    }
   ],
   "source": [
    "try:\n",
    "    num1 = int(input('Enter your first number'))\n",
    "    num2 = int(input('Enter your second number'))\n",
    "    operation =input('Choose your desired operation(+,-,/,*)')\n",
    "    if operation == '+':\n",
    "        print(f'{num1} + {num2} = {num1 + num2}')\n",
    "    elif operation == '-':\n",
    "        print(f'{num1} - {num2} = {num1 - num2}')\n",
    "    elif operation == '/':\n",
    "        print(f'{num1} / {num2} = {num1 / num2}')\n",
    "    elif operation == '*':\n",
    "        print(f'{num1} x {num2} = {num1 * num2}')\n",
    "    else:\n",
    "        print('Invalid operation')\n",
    "except ValueError:\n",
    "    print('You have enter a wrong value')\n",
    "except ZeroDivisionError:\n",
    "    print('You cannot divide a number by zero')\n",
    "except:\n",
    "    print('You have encountered one or more error')\n",
    "else:\n",
    "    print('Your answer is above')\n",
    "finally:\n",
    "    print('well done')\n",
    "\n",
    "        "
   ]
  },
  {
   "cell_type": "code",
   "execution_count": 50,
   "id": "8a0ecc64-93b6-484a-acdd-fe0dcbeae6a9",
   "metadata": {},
   "outputs": [
    {
     "ename": "SyntaxError",
     "evalue": "unexpected EOF while parsing (<ipython-input-50-6de836422aa9>, line 7)",
     "output_type": "error",
     "traceback": [
      "\u001b[1;36m  File \u001b[1;32m\"<ipython-input-50-6de836422aa9>\"\u001b[1;36m, line \u001b[1;32m7\u001b[0m\n\u001b[1;33m    formula = num1(num2*(1 + num2)**num3 / ((1 + num2)**num3 - 1)\u001b[0m\n\u001b[1;37m                                                                  ^\u001b[0m\n\u001b[1;31mSyntaxError\u001b[0m\u001b[1;31m:\u001b[0m unexpected EOF while parsing\n"
     ]
    }
   ],
   "source": [
    "#CLASS EXCERCISE\n",
    "try:\n",
    "    monthly = []\n",
    "    num1 = int(input('amount of loan:'))\n",
    "    num2 = int(input('interest amount:'))\n",
    "    num3 = int(input('numbers of payment:'))\n",
    "    formula = num1(num2*(1 + num2)**num3 / ((1 + num2)**num3 - 1) "
   ]
  },
  {
   "cell_type": "code",
   "execution_count": 42,
   "id": "df15c97e-87e2-445f-b4cb-a4ede8cf68eb",
   "metadata": {},
   "outputs": [
    {
     "name": "stdin",
     "output_type": "stream",
     "text": [
      "enter loan amount \n",
      " 50000\n",
      "how many years will you have the loan?\n",
      " 3\n",
      "enter interest rate \n",
      " 3\n"
     ]
    },
    {
     "name": "stdout",
     "output_type": "stream",
     "text": [
      "the monthly mortgage payment is\n",
      " (1454.06) \n",
      "end of program\n"
     ]
    }
   ],
   "source": [
    "#formula for mortgage calculator\n",
    "#M = L(I(1 + I)**N) / ((1 + I)**N -1)\n",
    "# M = monthly payment, L = loan, I = Interest, N = Number of payments, ** = exponent\n",
    "\n",
    "try:\n",
    "    #declares and asks for user to input loan amount. then converts to float\n",
    "    loanAmount = input('enter loan amount \\n')\n",
    "    loanAmount = float(loanAmount)\n",
    "    \n",
    "    #declares and asks user to input number of payments in years. then converts to float. years * 12 to get\n",
    "    # total number of months\n",
    "    n_years = input('how many years will you have the loan?\\n')\n",
    "    n_years = float(n_years) * 12\n",
    "    \n",
    "    # declares and asks user to input interest rate. then converts to float and input interest rate is /100/12\n",
    "    interestRate = input('enter interest rate \\n')\n",
    "    interestRate = float(interestRate) / 100 /12\n",
    "    \n",
    "    #formula to calculate monthly payments\n",
    "    mortgagepayment = loanAmount * (interestRate * (1 + interestRate)\n",
    "                                   ** n_years) / ((1 + interestRate) ** n_years - 1)\n",
    "    \n",
    "except ValueError:\n",
    "    print('you have enter a wrong value')\n",
    "except:\n",
    "    print('you have encounter one or more errors')\n",
    "else:\n",
    "    # prints monthly payment on next line and reformat the string to a float using 2 decimal places\n",
    "    print(\"the monthly mortgage payment is\\n (%.2f) \" % mortgagepayment)\n",
    "finally:\n",
    "    print('end of program')"
   ]
  },
  {
   "cell_type": "code",
   "execution_count": null,
   "id": "dbc93fea-2a40-4cfc-8bd2-e1597ea8c856",
   "metadata": {},
   "outputs": [],
   "source": []
  }
 ],
 "metadata": {
  "kernelspec": {
   "display_name": "Python 3",
   "language": "python",
   "name": "python3"
  },
  "language_info": {
   "codemirror_mode": {
    "name": "ipython",
    "version": 3
   },
   "file_extension": ".py",
   "mimetype": "text/x-python",
   "name": "python",
   "nbconvert_exporter": "python",
   "pygments_lexer": "ipython3",
   "version": "3.8.8"
  }
 },
 "nbformat": 4,
 "nbformat_minor": 5
}
