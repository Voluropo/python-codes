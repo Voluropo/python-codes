{
 "cells": [
  {
   "cell_type": "code",
   "execution_count": 1,
   "id": "1f73c676-4c27-4a73-b2c4-c5f2b546309b",
   "metadata": {},
   "outputs": [],
   "source": [
    "import datetime"
   ]
  },
  {
   "cell_type": "code",
   "execution_count": 2,
   "id": "b1c86c4c-4825-4742-bc2c-f49e1271f7d3",
   "metadata": {},
   "outputs": [
    {
     "name": "stdout",
     "output_type": "stream",
     "text": [
      "['MAXYEAR', 'MINYEAR', '__builtins__', '__cached__', '__doc__', '__file__', '__loader__', '__name__', '__package__', '__spec__', 'date', 'datetime', 'datetime_CAPI', 'sys', 'time', 'timedelta', 'timezone', 'tzinfo']\n"
     ]
    }
   ],
   "source": [
    "print(dir(datetime))"
   ]
  },
  {
   "cell_type": "code",
   "execution_count": 3,
   "id": "d4f510a2-34fb-409a-9ae5-f82d163b52f4",
   "metadata": {},
   "outputs": [],
   "source": [
    "date1 = datetime.date(2021,2,22)"
   ]
  },
  {
   "cell_type": "code",
   "execution_count": 4,
   "id": "be3b72f5-ab57-4e37-b70d-8d1a19ecae43",
   "metadata": {},
   "outputs": [
    {
     "data": {
      "text/plain": [
       "datetime.date(2021, 2, 22)"
      ]
     },
     "execution_count": 4,
     "metadata": {},
     "output_type": "execute_result"
    }
   ],
   "source": [
    "date1"
   ]
  },
  {
   "cell_type": "code",
   "execution_count": 5,
   "id": "76a46d54-0d67-456a-833c-b90bea791c0e",
   "metadata": {},
   "outputs": [
    {
     "data": {
      "text/plain": [
       "2"
      ]
     },
     "execution_count": 5,
     "metadata": {},
     "output_type": "execute_result"
    }
   ],
   "source": [
    "date1.month"
   ]
  },
  {
   "cell_type": "code",
   "execution_count": 6,
   "id": "94f95c45-79f9-4404-b808-b61b4eed2242",
   "metadata": {},
   "outputs": [
    {
     "data": {
      "text/plain": [
       "2021"
      ]
     },
     "execution_count": 6,
     "metadata": {},
     "output_type": "execute_result"
    }
   ],
   "source": [
    "date1.year"
   ]
  },
  {
   "cell_type": "code",
   "execution_count": 7,
   "id": "01f1c1bc-b900-41d2-af7b-e78592b8c87e",
   "metadata": {},
   "outputs": [
    {
     "data": {
      "text/plain": [
       "22"
      ]
     },
     "execution_count": 7,
     "metadata": {},
     "output_type": "execute_result"
    }
   ],
   "source": [
    "date1.day"
   ]
  },
  {
   "cell_type": "code",
   "execution_count": 8,
   "id": "8adb6102-4962-419b-bfe5-d5259d1c20ff",
   "metadata": {},
   "outputs": [],
   "source": [
    "current_date = datetime.date.today()"
   ]
  },
  {
   "cell_type": "code",
   "execution_count": 9,
   "id": "f125fc25-9d9c-4679-8f1b-27368ec27744",
   "metadata": {},
   "outputs": [
    {
     "name": "stdout",
     "output_type": "stream",
     "text": [
      "2021-11-08\n"
     ]
    }
   ],
   "source": [
    "print(current_date)"
   ]
  },
  {
   "cell_type": "code",
   "execution_count": 10,
   "id": "1bb32ada-5b52-4455-81ed-5aab6bf12af3",
   "metadata": {},
   "outputs": [
    {
     "data": {
      "text/plain": [
       "0"
      ]
     },
     "execution_count": 10,
     "metadata": {},
     "output_type": "execute_result"
    }
   ],
   "source": [
    "current_date.weekday()\n"
   ]
  },
  {
   "cell_type": "code",
   "execution_count": 11,
   "id": "ad127c53-f1e6-479d-be0e-12b43d0ac161",
   "metadata": {},
   "outputs": [
    {
     "data": {
      "text/plain": [
       "1"
      ]
     },
     "execution_count": 11,
     "metadata": {},
     "output_type": "execute_result"
    }
   ],
   "source": [
    "current_date.isoweekday()"
   ]
  },
  {
   "cell_type": "code",
   "execution_count": 12,
   "id": "66de1cdb-8bc3-4c6b-af13-075877aa2b08",
   "metadata": {},
   "outputs": [
    {
     "data": {
      "text/plain": [
       "'2021'"
      ]
     },
     "execution_count": 12,
     "metadata": {},
     "output_type": "execute_result"
    }
   ],
   "source": [
    "current_date.strftime('%Y')"
   ]
  },
  {
   "cell_type": "code",
   "execution_count": 13,
   "id": "ed0d4e34-3d1c-4d48-972e-687ea61c7dc8",
   "metadata": {},
   "outputs": [
    {
     "data": {
      "text/plain": [
       "'08/November/2021'"
      ]
     },
     "execution_count": 13,
     "metadata": {},
     "output_type": "execute_result"
    }
   ],
   "source": [
    "current_date.strftime('%d/%B/%Y')"
   ]
  },
  {
   "cell_type": "code",
   "execution_count": null,
   "id": "a3bd9a96-515d-4ca5-93cd-d1f3a5a26152",
   "metadata": {},
   "outputs": [],
   "source": []
  },
  {
   "cell_type": "code",
   "execution_count": null,
   "id": "9d4be071-1555-4edb-8004-d751c5c0df4d",
   "metadata": {},
   "outputs": [],
   "source": []
  },
  {
   "cell_type": "code",
   "execution_count": 1,
   "id": "bcf9b23c-72fb-428d-8eec-5a3db6605a93",
   "metadata": {},
   "outputs": [
    {
     "ename": "NameError",
     "evalue": "name 'datetime' is not defined",
     "output_type": "error",
     "traceback": [
      "\u001b[1;31m---------------------------------------------------------------------------\u001b[0m",
      "\u001b[1;31mNameError\u001b[0m                                 Traceback (most recent call last)",
      "\u001b[1;32m<ipython-input-1-e4282e96bce7>\u001b[0m in \u001b[0;36m<module>\u001b[1;34m\u001b[0m\n\u001b[1;32m----> 1\u001b[1;33m \u001b[0mcurrent_date_time\u001b[0m \u001b[1;33m=\u001b[0m \u001b[0mdatetime\u001b[0m\u001b[1;33m.\u001b[0m\u001b[0mdatetime\u001b[0m\u001b[1;33m.\u001b[0m\u001b[0mnow\u001b[0m\u001b[1;33m(\u001b[0m\u001b[1;33m)\u001b[0m\u001b[1;33m\u001b[0m\u001b[1;33m\u001b[0m\u001b[0m\n\u001b[0m",
      "\u001b[1;31mNameError\u001b[0m: name 'datetime' is not defined"
     ]
    }
   ],
   "source": [
    "current_date_time = datetime.datetime.now()"
   ]
  },
  {
   "cell_type": "code",
   "execution_count": 15,
   "id": "f5bd9a8d-5460-4bd1-9eac-ddd4374b5d61",
   "metadata": {},
   "outputs": [
    {
     "name": "stdout",
     "output_type": "stream",
     "text": [
      "2021-11-08 14:01:30.838218\n"
     ]
    }
   ],
   "source": [
    "print(current_date_time)"
   ]
  },
  {
   "cell_type": "code",
   "execution_count": 16,
   "id": "67f9b532-a8dd-4f3c-bcc1-fe0d3c868e54",
   "metadata": {},
   "outputs": [
    {
     "data": {
      "text/plain": [
       "'Mon'"
      ]
     },
     "execution_count": 16,
     "metadata": {},
     "output_type": "execute_result"
    }
   ],
   "source": [
    "current_date_time.strftime('%a')"
   ]
  },
  {
   "cell_type": "code",
   "execution_count": 17,
   "id": "beb0d550-0995-4914-a70d-d3e9da7c677e",
   "metadata": {},
   "outputs": [
    {
     "data": {
      "text/plain": [
       "datetime.datetime(2021, 11, 10, 14, 1, 30, 838218)"
      ]
     },
     "execution_count": 17,
     "metadata": {},
     "output_type": "execute_result"
    }
   ],
   "source": [
    "tdelta = datetime.timedelta(days= 2)\n",
    "current_date_time + tdelta"
   ]
  },
  {
   "cell_type": "code",
   "execution_count": 18,
   "id": "9d55ac8c-d27e-4ce5-8354-da73ed60ac91",
   "metadata": {},
   "outputs": [
    {
     "name": "stdin",
     "output_type": "stream",
     "text": [
      "please provide a date (mm/dd/yy): 02/23/2021\n"
     ]
    },
    {
     "ename": "ValueError",
     "evalue": "time data '02/23/2021' does not match format '%m:%d:%Y'",
     "output_type": "error",
     "traceback": [
      "\u001b[1;31m---------------------------------------------------------------------------\u001b[0m",
      "\u001b[1;31mValueError\u001b[0m                                Traceback (most recent call last)",
      "\u001b[1;32m<ipython-input-18-3d4bff0789d9>\u001b[0m in \u001b[0;36m<module>\u001b[1;34m\u001b[0m\n\u001b[0;32m      1\u001b[0m \u001b[0mdate2\u001b[0m \u001b[1;33m=\u001b[0m \u001b[0minput\u001b[0m\u001b[1;33m(\u001b[0m\u001b[1;34m'please provide a date (mm/dd/yy):'\u001b[0m\u001b[1;33m)\u001b[0m\u001b[1;33m\u001b[0m\u001b[1;33m\u001b[0m\u001b[0m\n\u001b[1;32m----> 2\u001b[1;33m \u001b[0mu_date\u001b[0m \u001b[1;33m=\u001b[0m \u001b[0mdatetime\u001b[0m\u001b[1;33m.\u001b[0m\u001b[0mdatetime\u001b[0m\u001b[1;33m.\u001b[0m\u001b[0mstrptime\u001b[0m\u001b[1;33m(\u001b[0m\u001b[0mdate2\u001b[0m\u001b[1;33m,\u001b[0m\u001b[1;34m'%m:%d:%Y'\u001b[0m\u001b[1;33m)\u001b[0m\u001b[1;33m.\u001b[0m\u001b[0mdate\u001b[0m\u001b[1;33m\u001b[0m\u001b[1;33m\u001b[0m\u001b[0m\n\u001b[0m",
      "\u001b[1;32m~\\anaconda3\\lib\\_strptime.py\u001b[0m in \u001b[0;36m_strptime_datetime\u001b[1;34m(cls, data_string, format)\u001b[0m\n\u001b[0;32m    566\u001b[0m     \"\"\"Return a class cls instance based on the input string and the\n\u001b[0;32m    567\u001b[0m     format string.\"\"\"\n\u001b[1;32m--> 568\u001b[1;33m     \u001b[0mtt\u001b[0m\u001b[1;33m,\u001b[0m \u001b[0mfraction\u001b[0m\u001b[1;33m,\u001b[0m \u001b[0mgmtoff_fraction\u001b[0m \u001b[1;33m=\u001b[0m \u001b[0m_strptime\u001b[0m\u001b[1;33m(\u001b[0m\u001b[0mdata_string\u001b[0m\u001b[1;33m,\u001b[0m \u001b[0mformat\u001b[0m\u001b[1;33m)\u001b[0m\u001b[1;33m\u001b[0m\u001b[1;33m\u001b[0m\u001b[0m\n\u001b[0m\u001b[0;32m    569\u001b[0m     \u001b[0mtzname\u001b[0m\u001b[1;33m,\u001b[0m \u001b[0mgmtoff\u001b[0m \u001b[1;33m=\u001b[0m \u001b[0mtt\u001b[0m\u001b[1;33m[\u001b[0m\u001b[1;33m-\u001b[0m\u001b[1;36m2\u001b[0m\u001b[1;33m:\u001b[0m\u001b[1;33m]\u001b[0m\u001b[1;33m\u001b[0m\u001b[1;33m\u001b[0m\u001b[0m\n\u001b[0;32m    570\u001b[0m     \u001b[0margs\u001b[0m \u001b[1;33m=\u001b[0m \u001b[0mtt\u001b[0m\u001b[1;33m[\u001b[0m\u001b[1;33m:\u001b[0m\u001b[1;36m6\u001b[0m\u001b[1;33m]\u001b[0m \u001b[1;33m+\u001b[0m \u001b[1;33m(\u001b[0m\u001b[0mfraction\u001b[0m\u001b[1;33m,\u001b[0m\u001b[1;33m)\u001b[0m\u001b[1;33m\u001b[0m\u001b[1;33m\u001b[0m\u001b[0m\n",
      "\u001b[1;32m~\\anaconda3\\lib\\_strptime.py\u001b[0m in \u001b[0;36m_strptime\u001b[1;34m(data_string, format)\u001b[0m\n\u001b[0;32m    347\u001b[0m     \u001b[0mfound\u001b[0m \u001b[1;33m=\u001b[0m \u001b[0mformat_regex\u001b[0m\u001b[1;33m.\u001b[0m\u001b[0mmatch\u001b[0m\u001b[1;33m(\u001b[0m\u001b[0mdata_string\u001b[0m\u001b[1;33m)\u001b[0m\u001b[1;33m\u001b[0m\u001b[1;33m\u001b[0m\u001b[0m\n\u001b[0;32m    348\u001b[0m     \u001b[1;32mif\u001b[0m \u001b[1;32mnot\u001b[0m \u001b[0mfound\u001b[0m\u001b[1;33m:\u001b[0m\u001b[1;33m\u001b[0m\u001b[1;33m\u001b[0m\u001b[0m\n\u001b[1;32m--> 349\u001b[1;33m         raise ValueError(\"time data %r does not match format %r\" %\n\u001b[0m\u001b[0;32m    350\u001b[0m                          (data_string, format))\n\u001b[0;32m    351\u001b[0m     \u001b[1;32mif\u001b[0m \u001b[0mlen\u001b[0m\u001b[1;33m(\u001b[0m\u001b[0mdata_string\u001b[0m\u001b[1;33m)\u001b[0m \u001b[1;33m!=\u001b[0m \u001b[0mfound\u001b[0m\u001b[1;33m.\u001b[0m\u001b[0mend\u001b[0m\u001b[1;33m(\u001b[0m\u001b[1;33m)\u001b[0m\u001b[1;33m:\u001b[0m\u001b[1;33m\u001b[0m\u001b[1;33m\u001b[0m\u001b[0m\n",
      "\u001b[1;31mValueError\u001b[0m: time data '02/23/2021' does not match format '%m:%d:%Y'"
     ]
    }
   ],
   "source": [
    "date2 = input('please provide a date (mm/dd/yy):')\n",
    "u_date = datetime.datetime.strptime(date2,'%m:%d:%Y').date\n"
   ]
  },
  {
   "cell_type": "code",
   "execution_count": null,
   "id": "418a1f92-fc5e-440d-95f9-1d20e8acfb02",
   "metadata": {},
   "outputs": [],
   "source": [
    "friends = ['Ahmed','John','Adam','Prince','Michael']\n",
    "date4 = input('Please provide a date and time (mm/dd/yy 10/00/00)')\n",
    "c_date4 = datetime.datetime.strptime(date4,'%m/%d/%Y/%H/%M/%S')\n",
    "for val in friends:\n",
    "    print('Hey', val, 'I am using this medium to invite you for my wedding ceremony coming up on the', c_date4.strftime('%d %A %B, %Y %I%p'), 'Prompt')"
   ]
  },
  {
   "cell_type": "code",
   "execution_count": 22,
   "id": "068e7493-783e-4e5e-9493-a5d2eb9c5a2c",
   "metadata": {},
   "outputs": [
    {
     "name": "stdin",
     "output_type": "stream",
     "text": [
      "68 + 54 =  87342\n",
      "35 + 15 =  7384\n",
      "67 + 36 =  4378\n",
      "37 + 59 =  734\n",
      "90 + 18 =  7438\n"
     ]
    },
    {
     "name": "stdout",
     "output_type": "stream",
     "text": [
      "congratulations you have scored 0 marks in 6seconds\n"
     ]
    }
   ],
   "source": [
    "import random\n",
    "score_list = []\n",
    "time_list = []\n",
    "counter = 0\n",
    "while counter < 5:\n",
    "    num1 = random.randint(10,99)\n",
    "    num2 = random.randint(10,99)\n",
    "    start_time = datetime.datetime.now()\n",
    "    answer = int(input(f'{num1} + {num2} = '))\n",
    "    stop_time = datetime.datetime.now()\n",
    "    \n",
    "    if answer == sum([num1,num2]):\n",
    "        score_list.append(10)\n",
    "    else:\n",
    "        score_list.append(0)\n",
    "    diff = stop_time - start_time\n",
    "    time_list.append(diff.seconds)\n",
    "    counter +=1\n",
    "total_score = sum(score_list)\n",
    "total_time = sum(time_list)\n",
    "print(f'congratulations you have scored {total_score} marks in {total_time}seconds')"
   ]
  },
  {
   "cell_type": "code",
   "execution_count": null,
   "id": "1e5e807b-7dde-445c-8362-de0f1524b935",
   "metadata": {},
   "outputs": [],
   "source": []
  }
 ],
 "metadata": {
  "kernelspec": {
   "display_name": "Python 3",
   "language": "python",
   "name": "python3"
  },
  "language_info": {
   "codemirror_mode": {
    "name": "ipython",
    "version": 3
   },
   "file_extension": ".py",
   "mimetype": "text/x-python",
   "name": "python",
   "nbconvert_exporter": "python",
   "pygments_lexer": "ipython3",
   "version": "3.8.8"
  }
 },
 "nbformat": 4,
 "nbformat_minor": 5
}
