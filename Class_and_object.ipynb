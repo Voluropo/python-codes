{
 "cells": [
  {
   "cell_type": "code",
   "execution_count": 1,
   "id": "ff9283e1-f108-4e56-8418-08e8e6265cba",
   "metadata": {},
   "outputs": [],
   "source": [
    "class dog:\n",
    "    attr1 = 'mammal'\n",
    "    attr2 = 'dog'\n",
    "    attr3 = 'bark'\n",
    "rocky = dog()\n"
   ]
  },
  {
   "cell_type": "code",
   "execution_count": 2,
   "id": "0c4616bb-8b03-4f08-9b03-dfeda97d3512",
   "metadata": {},
   "outputs": [
    {
     "data": {
      "text/plain": [
       "'mammal'"
      ]
     },
     "execution_count": 2,
     "metadata": {},
     "output_type": "execute_result"
    }
   ],
   "source": [
    "rocky.attr1"
   ]
  },
  {
   "cell_type": "code",
   "execution_count": 3,
   "id": "d02d10a6-82f7-491f-b00f-2830e4b906fd",
   "metadata": {},
   "outputs": [
    {
     "data": {
      "text/plain": [
       "'dog'"
      ]
     },
     "execution_count": 3,
     "metadata": {},
     "output_type": "execute_result"
    }
   ],
   "source": [
    "rocky.attr2"
   ]
  },
  {
   "cell_type": "code",
   "execution_count": 4,
   "id": "a07bf654-a8ee-4f7d-9458-1e218805e162",
   "metadata": {},
   "outputs": [
    {
     "data": {
      "text/plain": [
       "'bark'"
      ]
     },
     "execution_count": 4,
     "metadata": {},
     "output_type": "execute_result"
    }
   ],
   "source": [
    "rocky.attr3"
   ]
  },
  {
   "cell_type": "code",
   "execution_count": 8,
   "id": "5742b3be-106b-4f56-b6d9-b69c1f9be18f",
   "metadata": {},
   "outputs": [],
   "source": [
    "class dog:\n",
    "    attr1 = 'mammal'\n",
    "    attr2 = 'dog'\n",
    "    attr3 = 'bark'\n",
    "    def details(self):\n",
    "        print(f'rocky is a {self.attr2}.')\n",
    "        print(f'i belong to the kingdom of {self.attr1}.')\n",
    "        print(f'one of rocky\\'s behaviour is he can {self.attr3}.')\n",
    "rocky = dog()\n"
   ]
  },
  {
   "cell_type": "code",
   "execution_count": 9,
   "id": "2f051046-a79f-4d32-aed3-644f5a066893",
   "metadata": {},
   "outputs": [
    {
     "name": "stdout",
     "output_type": "stream",
     "text": [
      "rocky is a dog.\n",
      "i belong to the kingdom of mammal.\n",
      "one of rocky's behaviour is he can bark.\n"
     ]
    }
   ],
   "source": [
    "rocky.details()"
   ]
  },
  {
   "cell_type": "code",
   "execution_count": 3,
   "id": "c3b70e5f-bf01-42ad-9f46-019bbe9df604",
   "metadata": {},
   "outputs": [
    {
     "name": "stdin",
     "output_type": "stream",
     "text": [
      "Please enter your name: h\n",
      "Please enter your gender: f\n",
      "Please provide your age: f\n"
     ]
    },
    {
     "ename": "ValueError",
     "evalue": "invalid literal for int() with base 10: 'f'",
     "output_type": "error",
     "traceback": [
      "\u001b[1;31m---------------------------------------------------------------------------\u001b[0m",
      "\u001b[1;31mValueError\u001b[0m                                Traceback (most recent call last)",
      "\u001b[1;32m<ipython-input-3-e3086414430b>\u001b[0m in \u001b[0;36m<module>\u001b[1;34m\u001b[0m\n\u001b[0;32m     42\u001b[0m             \u001b[0mprint\u001b[0m\u001b[1;33m(\u001b[0m\u001b[1;34m'you shall never be a ble to play sports'\u001b[0m\u001b[1;33m)\u001b[0m\u001b[1;33m\u001b[0m\u001b[1;33m\u001b[0m\u001b[0m\n\u001b[0;32m     43\u001b[0m \u001b[1;33m\u001b[0m\u001b[0m\n\u001b[1;32m---> 44\u001b[1;33m \u001b[0mfirstperso\u001b[0m\u001b[1;33m=\u001b[0m \u001b[0mperson\u001b[0m\u001b[1;33m(\u001b[0m\u001b[0minput\u001b[0m\u001b[1;33m(\u001b[0m\u001b[1;34m'Please enter your name:'\u001b[0m\u001b[1;33m)\u001b[0m\u001b[1;33m,\u001b[0m\u001b[0minput\u001b[0m\u001b[1;33m(\u001b[0m\u001b[1;34m'Please enter your gender:'\u001b[0m\u001b[1;33m)\u001b[0m\u001b[1;33m,\u001b[0m\u001b[0mint\u001b[0m\u001b[1;33m(\u001b[0m\u001b[0minput\u001b[0m\u001b[1;33m(\u001b[0m\u001b[1;34m'Please provide your age:'\u001b[0m\u001b[1;33m)\u001b[0m\u001b[1;33m)\u001b[0m\u001b[1;33m,\u001b[0m\u001b[0mfloat\u001b[0m\u001b[1;33m(\u001b[0m\u001b[0minput\u001b[0m\u001b[1;33m(\u001b[0m\u001b[1;34m'Please provide your height in meters:'\u001b[0m\u001b[1;33m)\u001b[0m\u001b[1;33m)\u001b[0m\u001b[1;33m,\u001b[0m\u001b[0mfloat\u001b[0m\u001b[1;33m(\u001b[0m\u001b[0minput\u001b[0m\u001b[1;33m(\u001b[0m\u001b[1;34m'Please provide your weight in kg:'\u001b[0m\u001b[1;33m)\u001b[0m\u001b[1;33m)\u001b[0m\u001b[1;33m)\u001b[0m\u001b[1;33m\u001b[0m\u001b[1;33m\u001b[0m\u001b[0m\n\u001b[0m\u001b[0;32m     45\u001b[0m \u001b[0mprint\u001b[0m\u001b[1;33m(\u001b[0m\u001b[0mfirstperson\u001b[0m\u001b[1;33m.\u001b[0m\u001b[0mdetails\u001b[0m\u001b[1;33m(\u001b[0m\u001b[1;33m)\u001b[0m\u001b[1;33m)\u001b[0m\u001b[1;33m\u001b[0m\u001b[1;33m\u001b[0m\u001b[0m\n\u001b[0;32m     46\u001b[0m \u001b[0mprint\u001b[0m\u001b[1;33m(\u001b[0m\u001b[1;34m'\\n'\u001b[0m\u001b[1;33m)\u001b[0m\u001b[1;33m\u001b[0m\u001b[1;33m\u001b[0m\u001b[0m\n",
      "\u001b[1;31mValueError\u001b[0m: invalid literal for int() with base 10: 'f'"
     ]
    }
   ],
   "source": [
    "class person:\n",
    "    def __init__(self,name,gender,age,height,weight):\n",
    "        self.name = name\n",
    "        self.gender = gender\n",
    "        self.age = age\n",
    "        self.height = height\n",
    "        self.weight = weight\n",
    "    def details(self):\n",
    "        print(f'''name:{self.name}\n",
    "gender:{self.gender}\n",
    "age:{self.age}\n",
    "height:{self.height}\n",
    "weight:{self.weight}\n",
    "''')\n",
    "    def talk(self):\n",
    "        print(f'one of my behaviour is, i can talk')\n",
    "    def vote(self):\n",
    "        if self.age >= 18:\n",
    "            print('Congratultions you are eigible to vote')\n",
    "        else:\n",
    "            print('You are not eligible to vote')\n",
    "    def bmi(self):\n",
    "        bmi_index = self.weight / self.height**2\n",
    "        if self.weight < 16:\n",
    "            print('You are underweight, kindly go and see a nutrition doctor')\n",
    "        elif self.weight >= 16 and self.weight < 18.5:\n",
    "            print('You are underweight')\n",
    "        elif self.weight >= 18.5 and self.weight < 25:\n",
    "            print('You are healthy')\n",
    "        elif self.weight >= 25 and self.weight <30:\n",
    "            print('You are overweight')\n",
    "        else:\n",
    "            print('You are severely overweight')\n",
    "    def sport(self):\n",
    "        if self.height >= 162 and self.height <= 173:\n",
    "            print('You are eligible for other sports but not basketball')\n",
    "        elif self.height >= 174 and self.height <= 179:\n",
    "            print('You are eligible for all sports but not american football and basketball')\n",
    "        elif self.height >= 180:\n",
    "            print('You are eligible for all sports')\n",
    "        else:\n",
    "            print('you shall never be a ble to play sports')\n",
    "         \n",
    "firstperson = person(input('Please enter your name:'),input('Please enter your gender:'),int(input('Please provide your age:')),float(input('Please provide your height in meters:')),float(input('Please provide your weight in kg:')))\n",
    "print(firstperson.details())\n",
    "print('\\n')\n",
    "print(firstperson.talk())\n",
    "print('\\n')\n",
    "print(firstperson.vote())\n",
    "print('\\n')\n",
    "print(firstperson.bmi())\n",
    "print('\\n')\n",
    "print(firstperson.sport())\n",
    "print('\\n')\n",
    "\n"
   ]
  },
  {
   "cell_type": "code",
   "execution_count": 13,
   "id": "d8d86b8c-0fa0-47df-b08e-a266195d89f9",
   "metadata": {},
   "outputs": [
    {
     "ename": "SyntaxError",
     "evalue": "invalid syntax (<ipython-input-13-8c47dc4bdc32>, line 3)",
     "output_type": "error",
     "traceback": [
      "\u001b[1;36m  File \u001b[1;32m\"<ipython-input-13-8c47dc4bdc32>\"\u001b[1;36m, line \u001b[1;32m3\u001b[0m\n\u001b[1;33m    if weight >= 16 and weight <18.5\u001b[0m\n\u001b[1;37m                                    ^\u001b[0m\n\u001b[1;31mSyntaxError\u001b[0m\u001b[1;31m:\u001b[0m invalid syntax\n"
     ]
    }
   ],
   "source": [
    "bmi = weight / height**2\n",
    "if weight < 16:\n",
    "    print('you are under weight, see a dctor')\n",
    "    elif weight >= 16 and weight <18.5:\n",
    "        print('you are underweight')\n",
    "    elifif weight >= 18.5 and < 25:\n",
    "        print('you are healthy')\n",
    "    if weight >= 25 and < 30:\n",
    "        print('you are overweight')\n",
    "    if > 30:\n",
    "    print('you are severly overweight')"
   ]
  },
  {
   "cell_type": "code",
   "execution_count": null,
   "id": "b63a1b0a-ddb6-4c77-8c4d-c20b0cdfd4d2",
   "metadata": {},
   "outputs": [],
   "source": []
  },
  {
   "cell_type": "code",
   "execution_count": null,
   "id": "605ef79c-5927-4a22-baca-1ee0093743e1",
   "metadata": {},
   "outputs": [],
   "source": []
  }
 ],
 "metadata": {
  "kernelspec": {
   "display_name": "Python 3",
   "language": "python",
   "name": "python3"
  },
  "language_info": {
   "codemirror_mode": {
    "name": "ipython",
    "version": 3
   },
   "file_extension": ".py",
   "mimetype": "text/x-python",
   "name": "python",
   "nbconvert_exporter": "python",
   "pygments_lexer": "ipython3",
   "version": "3.8.8"
  }
 },
 "nbformat": 4,
 "nbformat_minor": 5
}
