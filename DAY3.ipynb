{
 "cells": [
  {
   "cell_type": "code",
   "execution_count": 1,
   "id": "c22ebf2a",
   "metadata": {},
   "outputs": [],
   "source": [
    "Cell1 = 3\n",
    "Cell2 = 1"
   ]
  },
  {
   "cell_type": "code",
   "execution_count": 3,
   "id": "b1f91836",
   "metadata": {},
   "outputs": [
    {
     "name": "stdout",
     "output_type": "stream",
     "text": [
      "4\n"
     ]
    }
   ],
   "source": [
    "print(Cell1+Cell2)"
   ]
  },
  {
   "cell_type": "code",
   "execution_count": 6,
   "id": "17739786",
   "metadata": {},
   "outputs": [
    {
     "name": "stdout",
     "output_type": "stream",
     "text": [
      "2\n"
     ]
    }
   ],
   "source": [
    "print(Cell1-Cell2)\n"
   ]
  },
  {
   "cell_type": "code",
   "execution_count": 7,
   "id": "20db3462",
   "metadata": {},
   "outputs": [
    {
     "name": "stdout",
     "output_type": "stream",
     "text": [
      "3\n"
     ]
    }
   ],
   "source": [
    "print(Cell1*Cell2)"
   ]
  },
  {
   "cell_type": "code",
   "execution_count": 8,
   "id": "f8e118e9",
   "metadata": {},
   "outputs": [
    {
     "name": "stdout",
     "output_type": "stream",
     "text": [
      "3.0\n"
     ]
    }
   ],
   "source": [
    "print(Cell1/Cell2)"
   ]
  },
  {
   "cell_type": "code",
   "execution_count": 9,
   "id": "5b7d51cc",
   "metadata": {},
   "outputs": [
    {
     "name": "stdout",
     "output_type": "stream",
     "text": [
      "0\n"
     ]
    }
   ],
   "source": [
    "print(Cell1%Cell2)"
   ]
  },
  {
   "cell_type": "code",
   "execution_count": 10,
   "id": "55546556",
   "metadata": {},
   "outputs": [
    {
     "name": "stdout",
     "output_type": "stream",
     "text": [
      "3\n"
     ]
    }
   ],
   "source": [
    "print(Cell1//Cell2)"
   ]
  },
  {
   "cell_type": "code",
   "execution_count": 11,
   "id": "a0fd9dec",
   "metadata": {},
   "outputs": [
    {
     "name": "stdout",
     "output_type": "stream",
     "text": [
      "3\n"
     ]
    }
   ],
   "source": [
    "print(Cell1**Cell2)"
   ]
  },
  {
   "cell_type": "code",
   "execution_count": 13,
   "id": "5d682988",
   "metadata": {},
   "outputs": [
    {
     "name": "stdout",
     "output_type": "stream",
     "text": [
      "True\n"
     ]
    }
   ],
   "source": [
    "print(Cell1>Cell2)"
   ]
  },
  {
   "cell_type": "code",
   "execution_count": 14,
   "id": "8b8df041",
   "metadata": {},
   "outputs": [
    {
     "name": "stdout",
     "output_type": "stream",
     "text": [
      "False\n"
     ]
    }
   ],
   "source": [
    "print(Cell1<Cell2)"
   ]
  },
  {
   "cell_type": "code",
   "execution_count": 15,
   "id": "205f2873",
   "metadata": {},
   "outputs": [
    {
     "name": "stdout",
     "output_type": "stream",
     "text": [
      "True\n"
     ]
    }
   ],
   "source": [
    "print(Cell1>=Cell2)"
   ]
  },
  {
   "cell_type": "code",
   "execution_count": 16,
   "id": "636ca10b",
   "metadata": {},
   "outputs": [
    {
     "name": "stdout",
     "output_type": "stream",
     "text": [
      "False\n"
     ]
    }
   ],
   "source": [
    "print(Cell1<=Cell2)"
   ]
  },
  {
   "cell_type": "code",
   "execution_count": 21,
   "id": "2d968718",
   "metadata": {},
   "outputs": [
    {
     "name": "stdout",
     "output_type": "stream",
     "text": [
      "False\n"
     ]
    }
   ],
   "source": [
    "print(Cell1==Cell2)"
   ]
  },
  {
   "cell_type": "code",
   "execution_count": 26,
   "id": "d077f40c",
   "metadata": {},
   "outputs": [
    {
     "name": "stdout",
     "output_type": "stream",
     "text": [
      "True\n"
     ]
    }
   ],
   "source": [
    "print(Cell1!=Cell2)"
   ]
  },
  {
   "cell_type": "code",
   "execution_count": 27,
   "id": "03b837ed",
   "metadata": {},
   "outputs": [
    {
     "name": "stdout",
     "output_type": "stream",
     "text": [
      "False\n"
     ]
    }
   ],
   "source": [
    "print(Cell1>Cell2 and Cell1<Cell2)"
   ]
  },
  {
   "cell_type": "code",
   "execution_count": 28,
   "id": "158f7447",
   "metadata": {},
   "outputs": [
    {
     "name": "stdout",
     "output_type": "stream",
     "text": [
      "True\n"
     ]
    }
   ],
   "source": [
    "print(Cell1>Cell2 or Cell1<Cell2)"
   ]
  },
  {
   "cell_type": "code",
   "execution_count": 29,
   "id": "e1d122b8",
   "metadata": {},
   "outputs": [
    {
     "name": "stdout",
     "output_type": "stream",
     "text": [
      "False\n"
     ]
    }
   ],
   "source": [
    "print(not Cell1)"
   ]
  },
  {
   "cell_type": "code",
   "execution_count": 31,
   "id": "2376d4d0",
   "metadata": {},
   "outputs": [
    {
     "name": "stdout",
     "output_type": "stream",
     "text": [
      "True\n"
     ]
    }
   ],
   "source": [
    "course = 'java script'\n",
    "print('s' in course)"
   ]
  },
  {
   "cell_type": "code",
   "execution_count": 32,
   "id": "64d6f174",
   "metadata": {},
   "outputs": [
    {
     "name": "stdout",
     "output_type": "stream",
     "text": [
      "False\n"
     ]
    }
   ],
   "source": [
    "print('j' not in course)"
   ]
  },
  {
   "cell_type": "code",
   "execution_count": 33,
   "id": "6c2217f8",
   "metadata": {},
   "outputs": [
    {
     "name": "stdout",
     "output_type": "stream",
     "text": [
      "False\n"
     ]
    }
   ],
   "source": [
    "print(Cell1 is Cell2)"
   ]
  },
  {
   "cell_type": "code",
   "execution_count": 34,
   "id": "550a7316",
   "metadata": {},
   "outputs": [
    {
     "name": "stdout",
     "output_type": "stream",
     "text": [
      "True\n"
     ]
    }
   ],
   "source": [
    "print(Cell1 is not Cell2)"
   ]
  },
  {
   "cell_type": "code",
   "execution_count": 44,
   "id": "60a31400",
   "metadata": {},
   "outputs": [
    {
     "name": "stdout",
     "output_type": "stream",
     "text": [
      "please provide me your name:Oluropo Victor\n"
     ]
    }
   ],
   "source": [
    "name =  input('please provide me your name:')"
   ]
  },
  {
   "cell_type": "code",
   "execution_count": 43,
   "id": "62776193",
   "metadata": {},
   "outputs": [
    {
     "name": "stdout",
     "output_type": "stream",
     "text": [
      "enter your age:18\n"
     ]
    }
   ],
   "source": [
    "age = int(input('enter your age:'))"
   ]
  },
  {
   "cell_type": "code",
   "execution_count": 1,
   "id": "943fb21d",
   "metadata": {},
   "outputs": [
    {
     "name": "stdout",
     "output_type": "stream",
     "text": [
      "the total savings at the end of the third year is 8425.795\n"
     ]
    }
   ],
   "source": [
    "p = 5000\n",
    "y = 3\n",
    "i = 6\n",
    "first= p * ((1+y*i)/100)\n",
    "end_first = p +first\n",
    "second= end_first * ((1+y*i)/100)\n",
    "end_second = second + end_first\n",
    "third= end_second*((1+y*i)/100)\n",
    "end_third = end_second+third\n",
    "print(f'the total savings at the end of the third year is {end_third}')"
   ]
  },
  {
   "cell_type": "code",
   "execution_count": null,
   "id": "9a324065",
   "metadata": {},
   "outputs": [],
   "source": [
    "\n",
    "\n",
    "\n",
    "\n"
   ]
  },
  {
   "cell_type": "code",
   "execution_count": null,
   "id": "2bb00066",
   "metadata": {},
   "outputs": [],
   "source": []
  }
 ],
 "metadata": {
  "kernelspec": {
   "display_name": "Python 3",
   "language": "python",
   "name": "python3"
  },
  "language_info": {
   "codemirror_mode": {
    "name": "ipython",
    "version": 3
   },
   "file_extension": ".py",
   "mimetype": "text/x-python",
   "name": "python",
   "nbconvert_exporter": "python",
   "pygments_lexer": "ipython3",
   "version": "3.8.8"
  }
 },
 "nbformat": 4,
 "nbformat_minor": 5
}
