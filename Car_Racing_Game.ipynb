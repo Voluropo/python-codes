{
 "cells": [
  {
   "cell_type": "code",
   "execution_count": 7,
   "id": "e467f720-695d-453b-a579-e590d6e854f1",
   "metadata": {},
   "outputs": [
    {
     "name": "stdin",
     "output_type": "stream",
     "text": [
      "please choose your brand Mercedes\n",
      "please choose your car model: Model 2\n",
      "please choose your car color: Black\n",
      "please choose your car year: 2020\n",
      "please choose your car speed: 320\n",
      "press 1 to start: 1\n",
      "please choose your car gear: 4\n",
      "press 10 to use turbo: 10\n",
      "press 8 to brake or stop: 8\n"
     ]
    },
    {
     "name": "stdout",
     "output_type": "stream",
     "text": [
      "brand:Mercedes\n",
      "model:Model 2\n",
      "color:Black\n",
      "year:2020\n",
      "speed:320\n",
      "\n",
      "None\n",
      "\n",
      "\n"
     ]
    },
    {
     "name": "stdin",
     "output_type": "stream",
     "text": [
      "to start to press the number 1: 1\n"
     ]
    },
    {
     "name": "stdout",
     "output_type": "stream",
     "text": [
      "you pressed the start button you are starting the game\n",
      "None\n",
      "\n",
      "\n"
     ]
    },
    {
     "name": "stdin",
     "output_type": "stream",
     "text": [
      "please choose a gear from 1 to 6: 4\n"
     ]
    },
    {
     "name": "stdout",
     "output_type": "stream",
     "text": [
      "you have chosen gear 4 you will soon pass the speed limit\n",
      "None\n",
      "\n",
      "\n"
     ]
    },
    {
     "name": "stdin",
     "output_type": "stream",
     "text": [
      "press 10 to use turbo: 10\n"
     ]
    },
    {
     "name": "stdout",
     "output_type": "stream",
     "text": [
      "turbo is on you are moving at highspeeds\n",
      "None\n",
      "\n",
      "\n",
      "None\n",
      "\n",
      "\n"
     ]
    }
   ],
   "source": [
    "class car:\n",
    "    def __init__(self,brand,model,color,year,speed,gear,start,turbo,brake):\n",
    "        self.brand = brand\n",
    "        self.model = model\n",
    "        self.color = color\n",
    "        self.year = year\n",
    "        self.speed = speed\n",
    "    def details(self):\n",
    "        print(f'''brand:{self.brand}\n",
    "model:{self.model}\n",
    "color:{self.color}\n",
    "year:{self.year}\n",
    "speed:{self.speed}\n",
    "''')\n",
    "    def start(self):\n",
    "        self.start = int(input('to start to press the number 1:'))\n",
    "        if self.start == 1:\n",
    "            print('you pressed the start button you are starting the game')\n",
    "    def gear(self):\n",
    "        self.gear = int(input('please choose a gear from 1 to 6:'))\n",
    "        if self.gear == 1:\n",
    "            print('you have chosen gear 1 you are moving slowly')\n",
    "        elif self.gear == 2:\n",
    "            print('you have chosen gear 2 you are moving steadily')\n",
    "        elif self.gear == 3:\n",
    "            print('you have chosen gear 3 you are moving with speed')\n",
    "        elif self.gear == 4:\n",
    "            print('you have chosen gear 4 you will soon pass the speed limit')\n",
    "        elif self.gear == 5:\n",
    "            print('you have chosen gear 5 you are parking your car')\n",
    "        elif self.gear == 6:\n",
    "            print('you have chosen gear 6 you are in reverse currently')\n",
    "    def turbo(self):\n",
    "        self.turbo = int(input('press 10 to use turbo:'))\n",
    "        if self.turbo == 10:\n",
    "            print('turbo is on you are moving at highspeeds')\n",
    "    def brake(self):\n",
    "        if self.brake == 9:\n",
    "            print('you are slowing down,you have stopped the game')\n",
    "       \n",
    "firstcar = car(input('please choose your brand'),input('please choose your car model:'),input('please choose your car color:'),int(input('please choose your car year:')),int(input('please choose your car speed:')),int(input('press 1 to start:')),int(input('please choose your car gear:')),int(input('press 10 to use turbo:')),int(input('press 8 to brake or stop:'))) \n",
    "print(firstcar.details())\n",
    "print('\\n')\n",
    "print(firstcar.start())\n",
    "print('\\n')\n",
    "print(firstcar.gear())\n",
    "print('\\n')\n",
    "print(firstcar.turbo())\n",
    "print('\\n')\n",
    "print(firstcar.brake())\n",
    "print('\\n')\n",
    "\n",
    "               \n",
    "\n",
    "\n",
    "    "
   ]
  },
  {
   "cell_type": "code",
   "execution_count": 6,
   "id": "3c71136d-feb6-475a-9c23-bf59a64228ba",
   "metadata": {},
   "outputs": [],
   "source": [
    "#correction\n",
    "\n",
    "class car_racing_game:\n",
    "    def __init__(self,brand,model,color,year,speed):\n",
    "        self.brand = brand\n",
    "        self.model = model\n",
    "        self.color = color\n",
    "        self.year = year\n",
    "        self.speed = speed\n",
    "    def details(self):\n",
    "        print(f'''brand:{self.brand}\n",
    "model:{self.model}\n",
    "color:{self.color}\n",
    "year:{self.year}\n",
    "speed:{self.speed}\n",
    "''')\n",
    "    def start(self):\n",
    "        print(f'{self.brand} {self.model} has started')\n",
    "    def gear(self):\n",
    "        choice = int(input('please choose a gear:'))\n",
    "        if choice == 1:\n",
    "            print('you have successfully changed to gear 1')\n",
    "        elif choice == 2:\n",
    "            print('you have successfully changed to gear 2')\n",
    "        elif choice == 3:\n",
    "            print('you have successfully changed to gear 3')\n",
    "        elif choice == 4:\n",
    "            print('you have successfully changed to gear 4')\n",
    "        elif choice == 5:\n",
    "            print('you have successfully changed to gear 5')\n",
    "        elif choice == 6:\n",
    "            print('you have successfully put your gear in reverse')\n",
    "        else:\n",
    "            print('invalid option')\n",
    "    def nitro(self):\n",
    "        choice = int(input('please choose an option'))\n",
    "        if choice == 1:\n",
    "            print('nitro engaged')\n",
    "        elif choice == 2:\n",
    "            print('nitro turned off')\n",
    "    def stop(self):\n",
    "        print(f'{self.model} {self.brand} has come to end of race')\n",
    "        firstcar = car_racing_game('lamborgini', 'mercilado','black',2020,250)\n",
    "        "
   ]
  },
  {
   "cell_type": "code",
   "execution_count": 5,
   "id": "cb4f1ab8-e1d4-4968-afe2-98eef6ea2b6c",
   "metadata": {},
   "outputs": [
    {
     "name": "stdout",
     "output_type": "stream",
     "text": [
      "ferrari RL500 has started\n",
      "None\n"
     ]
    }
   ],
   "source": [
    "class sub_game(car_racing_game):\n",
    "    def open_trunk(self):\n",
    "        choice = int(input('pick an option'))\n",
    "        if choice == 1:\n",
    "            print('trunk is opened')\n",
    "        elif choice == 2:\n",
    "            print ('trunk closed')\n",
    "secondcar = sub_game('ferrari','RL500','Yellow',2021,300)\n",
    "print(secondcar.start())"
   ]
  },
  {
   "cell_type": "code",
   "execution_count": null,
   "id": "c07aa4f1-f327-4702-bc70-954f9cee8f1d",
   "metadata": {},
   "outputs": [],
   "source": []
  }
 ],
 "metadata": {
  "kernelspec": {
   "display_name": "Python 3",
   "language": "python",
   "name": "python3"
  },
  "language_info": {
   "codemirror_mode": {
    "name": "ipython",
    "version": 3
   },
   "file_extension": ".py",
   "mimetype": "text/x-python",
   "name": "python",
   "nbconvert_exporter": "python",
   "pygments_lexer": "ipython3",
   "version": "3.8.8"
  }
 },
 "nbformat": 4,
 "nbformat_minor": 5
}
