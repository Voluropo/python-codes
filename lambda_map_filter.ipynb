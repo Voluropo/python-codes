{
 "cells": [
  {
   "cell_type": "code",
   "execution_count": 1,
   "id": "8fbfedcd-7179-4801-8211-584e65370020",
   "metadata": {
    "tags": []
   },
   "outputs": [
    {
     "data": {
      "text/plain": [
       "10"
      ]
     },
     "execution_count": 1,
     "metadata": {},
     "output_type": "execute_result"
    }
   ],
   "source": [
    "(lambda x: x+x)(5)"
   ]
  },
  {
   "cell_type": "code",
   "execution_count": 43,
   "id": "23f6ad8b-1908-4fc1-8ab6-b1097090606b",
   "metadata": {},
   "outputs": [
    {
     "name": "stdin",
     "output_type": "stream",
     "text": [
      "please enter your name: Archer\n"
     ]
    },
    {
     "data": {
      "text/plain": [
       "False"
      ]
     },
     "execution_count": 43,
     "metadata": {},
     "output_type": "execute_result"
    }
   ],
   "source": [
    "(lambda X:True if X.startswith(str.upper('s'))else False)(input('please enter your name:'))"
   ]
  },
  {
   "cell_type": "code",
   "execution_count": 44,
   "id": "a932f952-50ca-4ee4-8ed1-e8c8a3ac650a",
   "metadata": {},
   "outputs": [
    {
     "name": "stdin",
     "output_type": "stream",
     "text": [
      "please enter your password: jnjlnk\n"
     ]
    },
    {
     "data": {
      "text/plain": [
       "'valid password'"
      ]
     },
     "execution_count": 44,
     "metadata": {},
     "output_type": "execute_result"
    }
   ],
   "source": [
    "(lambda x: 'valid password' if len(x) >= 6 else 'invalid password')(input('please enter your password:'))"
   ]
  },
  {
   "cell_type": "code",
   "execution_count": 46,
   "id": "2be42201-cc92-417c-9d9f-38a4118da8a8",
   "metadata": {},
   "outputs": [
    {
     "name": "stdout",
     "output_type": "stream",
     "text": [
      "['ROCKY', 'BINGO', 'HENRY', 'ANIA']\n"
     ]
    }
   ],
   "source": [
    "dogs = ['rocky','bingo','henry','ania']\n",
    "u_dog = list(map(lambda x:x.upper(),dogs))\n",
    "print(u_dog)"
   ]
  },
  {
   "cell_type": "code",
   "execution_count": 72,
   "id": "930715a1-9a4c-4b11-a9d9-df48f1af8b1f",
   "metadata": {},
   "outputs": [
    {
     "name": "stdout",
     "output_type": "stream",
     "text": [
      "[7.280109889280518, 7.0710678118654755, 8.0, 6.928203230275509, 8.306623862918075, 8.0, 8.246211251235321, 7.937253933193772, 8.12403840463596, 8.12403840463596, 7.483314773547883, 6.928203230275509, 7.54983443527075, 7.416198487095663, 7.280109889280518, 7.681145747868608, 8.306623862918075, 7.211102550927978, 7.3484692283495345, 7.681145747868608, 8.366600265340756, 7.874007874011811, 8.12403840463596, 7.681145747868608, 6.928203230275509, 6.855654600401044, 8.18535277187245, 8.306623862918075, 7.211102550927978, 7.745966692414834, 8.06225774829855, 7.0, 6.708203932499369, 7.280109889280518, 7.681145747868608]\n"
     ]
    }
   ],
   "source": [
    "import random\n",
    "import math\n",
    "numbers = []\n",
    "count = 1\n",
    "while count <= 35:\n",
    "    num = random.randint(45,70)\n",
    "    numbers.append(num)\n",
    "    count += 1\n",
    "u_numbers = list(map(lambda digit: math.sqrt(digit),numbers))\n",
    "print(u_numbers)\n"
   ]
  },
  {
   "cell_type": "code",
   "execution_count": 2,
   "id": "6e94fa3c-2bd8-4d2f-981c-0e6b938876c4",
   "metadata": {},
   "outputs": [
    {
     "ename": "NameError",
     "evalue": "name 'numbers' is not defined",
     "output_type": "error",
     "traceback": [
      "\u001b[1;31m---------------------------------------------------------------------------\u001b[0m",
      "\u001b[1;31mNameError\u001b[0m                                 Traceback (most recent call last)",
      "\u001b[1;32m<ipython-input-2-e2e638771590>\u001b[0m in \u001b[0;36m<module>\u001b[1;34m\u001b[0m\n\u001b[1;32m----> 1\u001b[1;33m \u001b[0mu_numbers\u001b[0m \u001b[1;33m=\u001b[0m \u001b[0mlist\u001b[0m\u001b[1;33m(\u001b[0m\u001b[0mfilter\u001b[0m\u001b[1;33m(\u001b[0m\u001b[1;32mlambda\u001b[0m \u001b[0mdigit\u001b[0m\u001b[1;33m:\u001b[0m \u001b[0mdigit\u001b[0m \u001b[1;33m<\u001b[0m \u001b[1;36m55\u001b[0m\u001b[1;33m,\u001b[0m\u001b[0mnumbers\u001b[0m\u001b[1;33m)\u001b[0m\u001b[1;33m)\u001b[0m\u001b[1;33m\u001b[0m\u001b[1;33m\u001b[0m\u001b[0m\n\u001b[0m\u001b[0;32m      2\u001b[0m \u001b[0mprint\u001b[0m\u001b[1;33m(\u001b[0m\u001b[0mu_numbers\u001b[0m\u001b[1;33m)\u001b[0m\u001b[1;33m\u001b[0m\u001b[1;33m\u001b[0m\u001b[0m\n",
      "\u001b[1;31mNameError\u001b[0m: name 'numbers' is not defined"
     ]
    }
   ],
   "source": [
    "u_numbers = list(filter(lambda digit: digit < 55,numbers))\n",
    "print(u_numbers)"
   ]
  },
  {
   "cell_type": "code",
   "execution_count": 80,
   "id": "2e00f2f7-f176-4149-a7ba-baecdc20c278",
   "metadata": {},
   "outputs": [
    {
     "name": "stdout",
     "output_type": "stream",
     "text": [
      "[50, 64, 48, 64, 68, 66, 66, 56, 48, 52, 54, 70, 62, 66, 48, 52, 60]\n"
     ]
    }
   ],
   "source": [
    "even = list(filter(lambda numbers: numbers % 2 == 0,numbers))\n",
    "print(even)"
   ]
  },
  {
   "cell_type": "code",
   "execution_count": 81,
   "id": "49a6fcb0-b552-4a92-a3ea-c152082c85b4",
   "metadata": {},
   "outputs": [
    {
     "name": "stdout",
     "output_type": "stream",
     "text": [
      "[53, 69, 63, 57, 55, 53, 59, 69, 59, 59, 47, 67, 69, 65, 49, 45, 53, 59]\n"
     ]
    }
   ],
   "source": [
    "odd = list(filter(lambda numbers: numbers % 2 == 1,numbers))\n",
    "print(odd)"
   ]
  },
  {
   "cell_type": "code",
   "execution_count": 84,
   "id": "37c7a25d-dee0-4c26-82ab-60bae17450f2",
   "metadata": {},
   "outputs": [
    {
     "name": "stdout",
     "output_type": "stream",
     "text": [
      "[2500, 4096, 2304, 4096, 4624, 4356, 4356, 3136, 2304, 2704, 2916, 4900, 3844, 4356, 2304, 2704, 3600]\n"
     ]
    }
   ],
   "source": [
    "even = list(map(lambda even: even**2,even))\n",
    "print(even)"
   ]
  },
  {
   "cell_type": "code",
   "execution_count": null,
   "id": "cfedc53c-c1ae-4196-b1fe-c44dfa9c0de9",
   "metadata": {},
   "outputs": [],
   "source": [
    "lambda"
   ]
  }
 ],
 "metadata": {
  "kernelspec": {
   "display_name": "Python 3",
   "language": "python",
   "name": "python3"
  },
  "language_info": {
   "codemirror_mode": {
    "name": "ipython",
    "version": 3
   },
   "file_extension": ".py",
   "mimetype": "text/x-python",
   "name": "python",
   "nbconvert_exporter": "python",
   "pygments_lexer": "ipython3",
   "version": "3.8.8"
  }
 },
 "nbformat": 4,
 "nbformat_minor": 5
}
