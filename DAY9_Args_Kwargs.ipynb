{
 "cells": [
  {
   "cell_type": "code",
   "execution_count": 16,
   "id": "2168ca36",
   "metadata": {},
   "outputs": [
    {
     "name": "stdout",
     "output_type": "stream",
     "text": [
      "<class 'tuple'>\n",
      "87.2\n"
     ]
    }
   ],
   "source": [
    "def average(*args):\n",
    "    print(type(args))\n",
    "    avg = 0\n",
    "    t_avg = 0\n",
    "    for val in args:\n",
    "        #print(val)\n",
    "        avg = avg + val\n",
    "        t_avg = avg/len(args)\n",
    "    print(t_avg)\n",
    "    \n",
    "average(45,237,6,5,4,355,67,54,33,67,89,77,90,56,123)"
   ]
  },
  {
   "cell_type": "code",
   "execution_count": 13,
   "id": "3398ef04",
   "metadata": {},
   "outputs": [],
   "source": [
    "import random\n",
    "counter = 1\n",
    "numbers = []\n",
    "while counter <= 30:\n",
    "    num = random.randint(25,65)\n",
    "    numbers.append(num)\n",
    "    counter +=1"
   ]
  },
  {
   "cell_type": "code",
   "execution_count": 17,
   "id": "3e99711e",
   "metadata": {},
   "outputs": [
    {
     "name": "stdout",
     "output_type": "stream",
     "text": [
      "<class 'tuple'>\n",
      "45.8\n"
     ]
    }
   ],
   "source": [
    "average(*numbers)"
   ]
  },
  {
   "cell_type": "code",
   "execution_count": 21,
   "id": "56dfea25",
   "metadata": {},
   "outputs": [
    {
     "name": "stdout",
     "output_type": "stream",
     "text": [
      "<class 'dict'>\n",
      "Name : Victor\n",
      "Age : 18\n",
      "Gender : Male\n"
     ]
    }
   ],
   "source": [
    "def records(**kwargs):\n",
    "    print(type(kwargs))\n",
    "    for key,val in kwargs.items():\n",
    "        print(key, ':', val)\n",
    "records(Name = 'Victor',Age = 18,Gender = 'Male')"
   ]
  },
  {
   "cell_type": "code",
   "execution_count": 24,
   "id": "3dbd2027",
   "metadata": {},
   "outputs": [],
   "source": [
    "dict1 = {\n",
    "    'name':'ojo',\n",
    "    'age':18,\n",
    "    'gender':'Male'\n",
    "}"
   ]
  },
  {
   "cell_type": "code",
   "execution_count": 25,
   "id": "a9443444",
   "metadata": {},
   "outputs": [
    {
     "name": "stdout",
     "output_type": "stream",
     "text": [
      "<class 'dict'>\n",
      "name : ojo\n",
      "age : 18\n",
      "gender : Male\n"
     ]
    }
   ],
   "source": [
    "records(**dict1)"
   ]
  },
  {
   "cell_type": "code",
   "execution_count": 65,
   "id": "353fece9",
   "metadata": {},
   "outputs": [
    {
     "name": "stdout",
     "output_type": "stream",
     "text": [
      "239.3073337781356\n"
     ]
    }
   ],
   "source": [
    "import math\n",
    "def calculate(*args):\n",
    "    num = math.sqrt\n",
    "    for val in args:\n",
    "        print(math.sqrt(val))\n",
    "calculate(57268)\n"
   ]
  },
  {
   "cell_type": "code",
   "execution_count": 31,
   "id": "98fa88c7",
   "metadata": {},
   "outputs": [
    {
     "name": "stdout",
     "output_type": "stream",
     "text": [
      "['__doc__', '__loader__', '__name__', '__package__', '__spec__', 'acos', 'acosh', 'asin', 'asinh', 'atan', 'atan2', 'atanh', 'ceil', 'comb', 'copysign', 'cos', 'cosh', 'degrees', 'dist', 'e', 'erf', 'erfc', 'exp', 'expm1', 'fabs', 'factorial', 'floor', 'fmod', 'frexp', 'fsum', 'gamma', 'gcd', 'hypot', 'inf', 'isclose', 'isfinite', 'isinf', 'isnan', 'isqrt', 'ldexp', 'lgamma', 'log', 'log10', 'log1p', 'log2', 'modf', 'nan', 'perm', 'pi', 'pow', 'prod', 'radians', 'remainder', 'sin', 'sinh', 'sqrt', 'tan', 'tanh', 'tau', 'trunc']\n"
     ]
    }
   ],
   "source": [
    "import math\n",
    "print(dir(math))"
   ]
  },
  {
   "cell_type": "code",
   "execution_count": 84,
   "id": "e7f46d0f",
   "metadata": {},
   "outputs": [],
   "source": [
    "import random\n",
    "counter = 1\n",
    "number = []\n",
    "while counter <= 25:\n",
    "    num = random.randint(25,31)\n",
    "    number.append(num)\n",
    "    counter = counter + 1\n",
    "    "
   ]
  },
  {
   "cell_type": "code",
   "execution_count": 85,
   "id": "484d430e",
   "metadata": {},
   "outputs": [
    {
     "name": "stdout",
     "output_type": "stream",
     "text": [
      "5.196152422706632\n",
      "5.0\n",
      "5.385164807134504\n",
      "5.291502622129181\n",
      "5.291502622129181\n",
      "5.0990195135927845\n",
      "5.477225575051661\n",
      "5.0\n",
      "5.196152422706632\n",
      "5.291502622129181\n",
      "5.477225575051661\n",
      "5.0990195135927845\n",
      "5.5677643628300215\n",
      "5.5677643628300215\n",
      "5.5677643628300215\n",
      "5.385164807134504\n",
      "5.5677643628300215\n",
      "5.0\n",
      "5.5677643628300215\n",
      "5.477225575051661\n",
      "5.291502622129181\n",
      "5.477225575051661\n",
      "5.0990195135927845\n",
      "5.5677643628300215\n",
      "5.196152422706632\n"
     ]
    }
   ],
   "source": [
    "calculate(*number)"
   ]
  },
  {
   "cell_type": "code",
   "execution_count": null,
   "id": "a6588c46",
   "metadata": {},
   "outputs": [],
   "source": []
  }
 ],
 "metadata": {
  "kernelspec": {
   "display_name": "Python 3",
   "language": "python",
   "name": "python3"
  },
  "language_info": {
   "codemirror_mode": {
    "name": "ipython",
    "version": 3
   },
   "file_extension": ".py",
   "mimetype": "text/x-python",
   "name": "python",
   "nbconvert_exporter": "python",
   "pygments_lexer": "ipython3",
   "version": "3.8.8"
  }
 },
 "nbformat": 4,
 "nbformat_minor": 5
}
