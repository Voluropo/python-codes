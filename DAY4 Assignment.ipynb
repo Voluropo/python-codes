{
 "cells": [
  {
   "cell_type": "code",
   "execution_count": 3,
   "id": "c14fe05b",
   "metadata": {},
   "outputs": [],
   "source": [
    "department_of_science = {\n",
    "    'psychology':{'name':'victor','gender':'male','age':18,'weight':56,'height':1.70},\n",
    "    'biochemistry':{'name':'sarah','gender':'female','age':19,'weight':200,'height':1.56},\n",
    "    'archeology':{'name':'jeffrey','gender':'male','age':20,'weight':70,'height':1.76},\n",
    "    'medicine':{'name':'jessica','gender':'female','age':18,'weight':58,'height':1.68},\n",
    "    'lab_science':{'name':'wale','gender':'male','age':21,'weight':79,'height':1.81},\n",
    "    'engineering':{'name':'samuel','gender':'male','age':22,'weight':121,'height':1.90},\n",
    "    'robotics':{'name':'rachael','gender':'female','age':23,'weight':79,'height':1.55}\n",
    "}"
   ]
  },
  {
   "cell_type": "code",
   "execution_count": 5,
   "id": "c672de89",
   "metadata": {},
   "outputs": [
    {
     "data": {
      "text/plain": [
       "'sarah'"
      ]
     },
     "execution_count": 5,
     "metadata": {},
     "output_type": "execute_result"
    }
   ],
   "source": [
    "department_of_science['biochemistry']['name']"
   ]
  },
  {
   "cell_type": "code",
   "execution_count": null,
   "id": "8fb01f13",
   "metadata": {},
   "outputs": [],
   "source": []
  }
 ],
 "metadata": {
  "kernelspec": {
   "display_name": "Python 3",
   "language": "python",
   "name": "python3"
  },
  "language_info": {
   "codemirror_mode": {
    "name": "ipython",
    "version": 3
   },
   "file_extension": ".py",
   "mimetype": "text/x-python",
   "name": "python",
   "nbconvert_exporter": "python",
   "pygments_lexer": "ipython3",
   "version": "3.8.8"
  }
 },
 "nbformat": 4,
 "nbformat_minor": 5
}
