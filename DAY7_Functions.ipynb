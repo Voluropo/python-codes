{
 "cells": [
  {
   "cell_type": "code",
   "execution_count": 1,
   "id": "c8ce272c",
   "metadata": {},
   "outputs": [],
   "source": [
    "def greet(): #Function without parameter or argument\n",
    "    print('welcome to python class')"
   ]
  },
  {
   "cell_type": "code",
   "execution_count": 2,
   "id": "f88a30a7",
   "metadata": {},
   "outputs": [
    {
     "name": "stdout",
     "output_type": "stream",
     "text": [
      "welcome to python class\n"
     ]
    }
   ],
   "source": [
    "greet()"
   ]
  },
  {
   "cell_type": "code",
   "execution_count": 7,
   "id": "0acdc0ff",
   "metadata": {},
   "outputs": [],
   "source": [
    "def greet2(name): #functions with one parameter or argument\n",
    "    print(f'welcome to python class {name}')"
   ]
  },
  {
   "cell_type": "code",
   "execution_count": 8,
   "id": "2b9ba5af",
   "metadata": {},
   "outputs": [
    {
     "name": "stdout",
     "output_type": "stream",
     "text": [
      "welcome to python class victor\n"
     ]
    }
   ],
   "source": [
    "greet2 ('victor')"
   ]
  },
  {
   "cell_type": "code",
   "execution_count": 18,
   "id": "9ffc5973",
   "metadata": {},
   "outputs": [
    {
     "name": "stdout",
     "output_type": "stream",
     "text": [
      "hey my name is victor'\n",
      "i am a male'\n",
      "i am 19 years old'\n",
      "my height is 1.67 meters'\n",
      "my weight is 69kg'\n",
      "\n",
      "hey you are eligible to vote\n"
     ]
    }
   ],
   "source": [
    "def person(name,gender,age,height,weight):#Functions with more than one parameters or arguments\n",
    "    print(f'''hey my name is {name}'\n",
    "i am a {gender}'\n",
    "i am {age} years old'\n",
    "my height is {height} meters'\n",
    "my weight is {weight}kg'\n",
    "''')\n",
    "    if age >= 18:\n",
    "        print('hey you are eligible to vote')\n",
    "    else:\n",
    "        print('hey you are not eligible to vote')\n",
    "person('victor','male',19,1.67,69)"
   ]
  },
  {
   "cell_type": "code",
   "execution_count": null,
   "id": "42ef5a7b",
   "metadata": {},
   "outputs": [],
   "source": [
    "p = 5000\n",
    "y"
   ]
  }
 ],
 "metadata": {
  "kernelspec": {
   "display_name": "Python 3",
   "language": "python",
   "name": "python3"
  },
  "language_info": {
   "codemirror_mode": {
    "name": "ipython",
    "version": 3
   },
   "file_extension": ".py",
   "mimetype": "text/x-python",
   "name": "python",
   "nbconvert_exporter": "python",
   "pygments_lexer": "ipython3",
   "version": "3.8.8"
  }
 },
 "nbformat": 4,
 "nbformat_minor": 5
}
