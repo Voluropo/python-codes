{
 "cells": [
  {
   "cell_type": "code",
   "execution_count": 3,
   "id": "34193ed4-eaca-46e3-95ba-1058db9f88b9",
   "metadata": {},
   "outputs": [],
   "source": [
    "import mysql.connector"
   ]
  },
  {
   "cell_type": "code",
   "execution_count": 6,
   "id": "2d1c6d3c-43fb-4115-9184-d80f4cd2f546",
   "metadata": {},
   "outputs": [
    {
     "name": "stdout",
     "output_type": "stream",
     "text": [
      "('football_management_system',)\n",
      "('information_schema',)\n",
      "('mysql',)\n",
      "('performance_schema',)\n",
      "('sys',)\n"
     ]
    }
   ],
   "source": [
    "mydb = mysql.connector.connect(\n",
    "    host ='localhost',\n",
    "    user ='root',\n",
    "    password ='voluropo2003'\n",
    ")\n",
    "mycursor =mydb.cursor()\n",
    "mycursor.execute('SHOW DATABASES')\n",
    "for x in mycursor:\n",
    "    print(x)"
   ]
  },
  {
   "cell_type": "code",
   "execution_count": 7,
   "id": "76e47aaa-08a2-4e4d-85e2-216d6b811eb3",
   "metadata": {},
   "outputs": [],
   "source": [
    "mydb = mysql.connector.connect(\n",
    "    host ='localhost',\n",
    "    user ='root',\n",
    "    password ='voluropo2003',\n",
    "    database = 'football_management_system'\n",
    ")\n",
    "mycursor =mydb.cursor()\n",
    "mycursor.execute('CREATE TABLE staff_details(id int,s_name varchar(255),s_position varchar(255),s_country varchar(255),s_dob date)')"
   ]
  },
  {
   "cell_type": "code",
   "execution_count": 9,
   "id": "f3773f86-7587-42d1-a84d-aa69fdff0d87",
   "metadata": {},
   "outputs": [
    {
     "name": "stdout",
     "output_type": "stream",
     "text": [
      "1 was inserted\n"
     ]
    }
   ],
   "source": [
    "mydb = mysql.connector.connect(\n",
    "    host ='localhost',\n",
    "    user ='root',\n",
    "    password ='voluropo2003',\n",
    "    database = 'football_management_system'\n",
    ")\n",
    "mycursor =mydb.cursor()\n",
    "sql = 'INSERT INTO staff_details (id,s_name,s_position,s_country,s_dob) VALUES(%s,%s,%s,%s,%s)'\n",
    "val = (1,'Ole Gunnar Solskjaer','manager','norway','1943-02-26')\n",
    "mycursor.execute(sql,val)\n",
    "mydb.commit()\n",
    "print(mycursor.rowcount, 'was inserted')"
   ]
  },
  {
   "cell_type": "code",
   "execution_count": 10,
   "id": "e06a3744-4ddb-444d-bd15-678ffd071f27",
   "metadata": {},
   "outputs": [
    {
     "name": "stdout",
     "output_type": "stream",
     "text": [
      "1 was inserted\n"
     ]
    }
   ],
   "source": [
    "mydb = mysql.connector.connect(\n",
    "    host ='localhost',\n",
    "    user ='root',\n",
    "    password ='voluropo2003',\n",
    "    database = 'football_management_system'\n",
    ")\n",
    "mycursor =mydb.cursor()\n",
    "sql = 'INSERT INTO staff_details (id,s_name,s_position,s_country,s_dob) VALUES(%s,%s,%s,%s,%s)'\n",
    "val = (1,'Ole Gunnar Solskjaer','manager','norway','1943-02-26')\n",
    "mycursor.execute(sql,val)\n",
    "mydb.commit()\n",
    "print(mycursor.rowcount, 'was inserted')"
   ]
  },
  {
   "cell_type": "code",
   "execution_count": 11,
   "id": "f371d409-7b29-46e4-ae2b-bec4f74534a4",
   "metadata": {},
   "outputs": [
    {
     "name": "stdout",
     "output_type": "stream",
     "text": [
      "4 records was inserted\n"
     ]
    }
   ],
   "source": [
    "mydb = mysql.connector.connect(\n",
    "    host ='localhost',\n",
    "    user ='root',\n",
    "    password ='voluropo2003',\n",
    "    database = 'football_management_system'\n",
    ")\n",
    "mycursor =mydb.cursor()\n",
    "sql = 'INSERT INTO staff_details (id,s_name,s_position,s_country,s_dob) VALUES(%s,%s,%s,%s,%s)'\n",
    "val = [(2,'Michael Phelan','coach','England','1958-02-26'),\n",
    "      (3,'Michael Carrick','Technical Director','England','1985-02-26'),\n",
    "      (4,'Darren Fletcher','Technical Director','England','1983-02-26'),\n",
    "      (5,'Edwin Vandersar','GK Coach','England','1970-05-10')]\n",
    "mycursor.executemany(sql,val)\n",
    "mydb.commit()\n",
    "print(mycursor.rowcount, 'records was inserted')"
   ]
  },
  {
   "cell_type": "code",
   "execution_count": 13,
   "id": "62bf8382-131b-4e7a-9bdc-0a3313864087",
   "metadata": {},
   "outputs": [
    {
     "name": "stdout",
     "output_type": "stream",
     "text": [
      "(1, 'Ole Gunnar Solskjaer', 'manager', 'norway', datetime.date(1943, 2, 26))\n",
      "(1, 'Ole Gunnar Solskjaer', 'manager', 'norway', datetime.date(1943, 2, 26))\n",
      "(2, 'Michael Phelan', 'coach', 'England', datetime.date(1958, 2, 26))\n",
      "(3, 'Michael Carrick', 'Technical Director', 'England', datetime.date(1985, 2, 26))\n",
      "(4, 'Darren Fletcher', 'Technical Director', 'England', datetime.date(1983, 2, 26))\n",
      "(5, 'Edwin Vandersar', 'GK Coach', 'England', datetime.date(1970, 5, 10))\n"
     ]
    }
   ],
   "source": [
    "mydb = mysql.connector.connect(\n",
    "    host ='localhost',\n",
    "    user ='root',\n",
    "    password ='voluropo2003',\n",
    "    database = 'football_management_system'\n",
    ")\n",
    "mycursor =mydb.cursor()\n",
    "mycursor.execute('SELECT * FROM staff_details')\n",
    "result = mycursor.fetchall()\n",
    "for x in result:\n",
    "    print(x)"
   ]
  },
  {
   "cell_type": "code",
   "execution_count": null,
   "id": "abdd6c00-3ace-4e4f-8351-280c4ec3cfa4",
   "metadata": {},
   "outputs": [],
   "source": []
  }
 ],
 "metadata": {
  "kernelspec": {
   "display_name": "Python 3",
   "language": "python",
   "name": "python3"
  },
  "language_info": {
   "codemirror_mode": {
    "name": "ipython",
    "version": 3
   },
   "file_extension": ".py",
   "mimetype": "text/x-python",
   "name": "python",
   "nbconvert_exporter": "python",
   "pygments_lexer": "ipython3",
   "version": "3.8.8"
  }
 },
 "nbformat": 4,
 "nbformat_minor": 5
}
