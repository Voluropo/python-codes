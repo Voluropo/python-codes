{
 "cells": [
  {
   "cell_type": "code",
   "execution_count": 1,
   "id": "838decb4",
   "metadata": {},
   "outputs": [],
   "source": [
    "import math"
   ]
  },
  {
   "cell_type": "code",
   "execution_count": 2,
   "id": "7e1cd62d",
   "metadata": {},
   "outputs": [
    {
     "name": "stdout",
     "output_type": "stream",
     "text": [
      "['__doc__', '__loader__', '__name__', '__package__', '__spec__', 'acos', 'acosh', 'asin', 'asinh', 'atan', 'atan2', 'atanh', 'ceil', 'comb', 'copysign', 'cos', 'cosh', 'degrees', 'dist', 'e', 'erf', 'erfc', 'exp', 'expm1', 'fabs', 'factorial', 'floor', 'fmod', 'frexp', 'fsum', 'gamma', 'gcd', 'hypot', 'inf', 'isclose', 'isfinite', 'isinf', 'isnan', 'isqrt', 'ldexp', 'lgamma', 'log', 'log10', 'log1p', 'log2', 'modf', 'nan', 'perm', 'pi', 'pow', 'prod', 'radians', 'remainder', 'sin', 'sinh', 'sqrt', 'tan', 'tanh', 'tau', 'trunc']\n"
     ]
    }
   ],
   "source": [
    "print(dir(math))"
   ]
  },
  {
   "cell_type": "code",
   "execution_count": 3,
   "id": "b8c81f10",
   "metadata": {},
   "outputs": [
    {
     "name": "stdout",
     "output_type": "stream",
     "text": [
      "10\n"
     ]
    }
   ],
   "source": [
    "number = 10.58\n",
    "print(math.floor(number))"
   ]
  },
  {
   "cell_type": "code",
   "execution_count": 4,
   "id": "2058f86c",
   "metadata": {},
   "outputs": [
    {
     "name": "stdout",
     "output_type": "stream",
     "text": [
      "11\n"
     ]
    }
   ],
   "source": [
    "print(math.ceil(number))"
   ]
  },
  {
   "cell_type": "code",
   "execution_count": 6,
   "id": "651246dc",
   "metadata": {},
   "outputs": [],
   "source": [
    "import statistics as stat"
   ]
  },
  {
   "cell_type": "code",
   "execution_count": 7,
   "id": "03851097",
   "metadata": {},
   "outputs": [
    {
     "name": "stdout",
     "output_type": "stream",
     "text": [
      "['Counter', 'Decimal', 'Fraction', 'NormalDist', 'StatisticsError', '__all__', '__builtins__', '__cached__', '__doc__', '__file__', '__loader__', '__name__', '__package__', '__spec__', '_coerce', '_convert', '_exact_ratio', '_fail_neg', '_find_lteq', '_find_rteq', '_isfinite', '_normal_dist_inv_cdf', '_ss', '_sum', 'bisect_left', 'bisect_right', 'erf', 'exp', 'fabs', 'fmean', 'fsum', 'geometric_mean', 'groupby', 'harmonic_mean', 'hypot', 'itemgetter', 'log', 'math', 'mean', 'median', 'median_grouped', 'median_high', 'median_low', 'mode', 'multimode', 'numbers', 'pstdev', 'pvariance', 'quantiles', 'random', 'sqrt', 'stdev', 'tau', 'variance']\n"
     ]
    }
   ],
   "source": [
    "print(dir(stat))"
   ]
  },
  {
   "cell_type": "code",
   "execution_count": 8,
   "id": "2edee69f",
   "metadata": {},
   "outputs": [
    {
     "name": "stdout",
     "output_type": "stream",
     "text": [
      "54.888888888888886\n"
     ]
    }
   ],
   "source": [
    "numbers = [12,23,34,45,56,67,78,89,90]\n",
    "print(stat.mean(numbers))"
   ]
  },
  {
   "cell_type": "code",
   "execution_count": 9,
   "id": "13c7138f",
   "metadata": {},
   "outputs": [
    {
     "name": "stdout",
     "output_type": "stream",
     "text": [
      "54.888888888888886\n"
     ]
    }
   ],
   "source": [
    "print(stat.fmean(numbers))"
   ]
  },
  {
   "cell_type": "code",
   "execution_count": 10,
   "id": "b5407531",
   "metadata": {},
   "outputs": [
    {
     "name": "stdout",
     "output_type": "stream",
     "text": [
      "[23.0, 45.0, 67.0, 89.0]\n"
     ]
    }
   ],
   "source": [
    "print(stat.quantiles(numbers,n = 5))"
   ]
  },
  {
   "cell_type": "code",
   "execution_count": 12,
   "id": "79c06909",
   "metadata": {},
   "outputs": [
    {
     "name": "stdout",
     "output_type": "stream",
     "text": [
      "['BPF', 'LOG4', 'NV_MAGICCONST', 'RECIP_BPF', 'Random', 'SG_MAGICCONST', 'SystemRandom', 'TWOPI', '_Sequence', '_Set', '__all__', '__builtins__', '__cached__', '__doc__', '__file__', '__loader__', '__name__', '__package__', '__spec__', '_accumulate', '_acos', '_bisect', '_ceil', '_cos', '_e', '_exp', '_inst', '_log', '_os', '_pi', '_random', '_repeat', '_sha512', '_sin', '_sqrt', '_test', '_test_generator', '_urandom', '_warn', 'betavariate', 'choice', 'choices', 'expovariate', 'gammavariate', 'gauss', 'getrandbits', 'getstate', 'lognormvariate', 'normalvariate', 'paretovariate', 'randint', 'random', 'randrange', 'sample', 'seed', 'setstate', 'shuffle', 'triangular', 'uniform', 'vonmisesvariate', 'weibullvariate']\n"
     ]
    }
   ],
   "source": [
    "import random\n",
    "print(dir(random))"
   ]
  },
  {
   "cell_type": "code",
   "execution_count": 16,
   "id": "c2d062e5",
   "metadata": {},
   "outputs": [
    {
     "data": {
      "text/plain": [
       "16"
      ]
     },
     "execution_count": 16,
     "metadata": {},
     "output_type": "execute_result"
    }
   ],
   "source": [
    "random.seed(1)\n",
    "random.randint(8,50)"
   ]
  },
  {
   "cell_type": "code",
   "execution_count": 20,
   "id": "fd3c20b1",
   "metadata": {},
   "outputs": [
    {
     "data": {
      "text/plain": [
       "'abuja'"
      ]
     },
     "execution_count": 20,
     "metadata": {},
     "output_type": "execute_result"
    }
   ],
   "source": [
    "states = ['abuja','osun','kaduna','river','edo']\n",
    "random.choice(states)"
   ]
  },
  {
   "cell_type": "code",
   "execution_count": 21,
   "id": "54c7d348",
   "metadata": {},
   "outputs": [],
   "source": [
    "random.shuffle(states)"
   ]
  },
  {
   "cell_type": "code",
   "execution_count": 22,
   "id": "46ef32c6",
   "metadata": {},
   "outputs": [
    {
     "data": {
      "text/plain": [
       "['river', 'edo', 'osun', 'abuja', 'kaduna']"
      ]
     },
     "execution_count": 22,
     "metadata": {},
     "output_type": "execute_result"
    }
   ],
   "source": [
    "states"
   ]
  },
  {
   "cell_type": "code",
   "execution_count": 23,
   "id": "b06a0a3b",
   "metadata": {},
   "outputs": [
    {
     "name": "stdout",
     "output_type": "stream",
     "text": [
      "['Formatter', 'Template', '_ChainMap', '_TemplateMetaclass', '__all__', '__builtins__', '__cached__', '__doc__', '__file__', '__loader__', '__name__', '__package__', '__spec__', '_re', '_sentinel_dict', '_string', 'ascii_letters', 'ascii_lowercase', 'ascii_uppercase', 'capwords', 'digits', 'hexdigits', 'octdigits', 'printable', 'punctuation', 'whitespace']\n"
     ]
    }
   ],
   "source": [
    "import string\n",
    "print(dir(string))"
   ]
  },
  {
   "cell_type": "code",
   "execution_count": 25,
   "id": "906e43b7",
   "metadata": {},
   "outputs": [
    {
     "data": {
      "text/plain": [
       "'abcdefghijklmnopqrstuvwxyzABCDEFGHIJKLMNOPQRSTUVWXYZ'"
      ]
     },
     "execution_count": 25,
     "metadata": {},
     "output_type": "execute_result"
    }
   ],
   "source": [
    "string.ascii_letters"
   ]
  },
  {
   "cell_type": "code",
   "execution_count": 26,
   "id": "ea760030",
   "metadata": {},
   "outputs": [
    {
     "data": {
      "text/plain": [
       "range(2, 58)"
      ]
     },
     "execution_count": 26,
     "metadata": {},
     "output_type": "execute_result"
    }
   ],
   "source": [
    "range(2,58)"
   ]
  },
  {
   "cell_type": "code",
   "execution_count": 27,
   "id": "b0049b3f",
   "metadata": {},
   "outputs": [
    {
     "name": "stdout",
     "output_type": "stream",
     "text": [
      "p\n",
      "y\n",
      "t\n",
      "h\n",
      "o\n",
      "n\n"
     ]
    }
   ],
   "source": [
    "word = 'python'\n",
    "for val in word:\n",
    "    print(val)"
   ]
  },
  {
   "cell_type": "code",
   "execution_count": 29,
   "id": "9720f088",
   "metadata": {},
   "outputs": [
    {
     "name": "stdout",
     "output_type": "stream",
     "text": [
      "hey ahmed i am inviting you for my birthday party this friday,the time is 4pm prompt\n",
      "hey john i am inviting you for my birthday party this friday,the time is 4pm prompt\n",
      "hey adam i am inviting you for my birthday party this friday,the time is 4pm prompt\n",
      "hey prince i am inviting you for my birthday party this friday,the time is 4pm prompt\n",
      "hey michael i am inviting you for my birthday party this friday,the time is 4pm prompt\n",
      "hey sarah i am inviting you for my birthday party this friday,the time is 4pm prompt\n",
      "hey peter i am inviting you for my birthday party this friday,the time is 4pm prompt\n"
     ]
    }
   ],
   "source": [
    "friends = ['ahmed','john','adam','prince','michael','sarah','peter']\n",
    "for name in friends:\n",
    "    print(f'hey {name} i am inviting you for my birthday party this friday,the time is 4pm prompt')"
   ]
  },
  {
   "cell_type": "code",
   "execution_count": 30,
   "id": "1dc8fa0c",
   "metadata": {
    "scrolled": true
   },
   "outputs": [
    {
     "name": "stdout",
     "output_type": "stream",
     "text": [
      "2\n",
      "3\n",
      "4\n",
      "5\n",
      "6\n",
      "7\n",
      "8\n",
      "9\n",
      "10\n",
      "11\n",
      "12\n",
      "13\n",
      "14\n",
      "15\n",
      "16\n",
      "17\n",
      "18\n",
      "19\n",
      "20\n",
      "21\n",
      "22\n",
      "23\n",
      "24\n",
      "25\n",
      "26\n",
      "27\n",
      "28\n",
      "29\n",
      "30\n",
      "31\n",
      "32\n",
      "33\n",
      "34\n",
      "35\n",
      "36\n",
      "37\n",
      "38\n",
      "39\n",
      "40\n",
      "41\n",
      "42\n",
      "43\n",
      "44\n",
      "45\n",
      "46\n",
      "47\n",
      "48\n",
      "49\n",
      "50\n",
      "51\n",
      "52\n",
      "53\n",
      "54\n",
      "55\n",
      "56\n",
      "57\n"
     ]
    }
   ],
   "source": [
    "for i in range(2,58):\n",
    "    print(i)"
   ]
  },
  {
   "cell_type": "code",
   "execution_count": 35,
   "id": "a026189b",
   "metadata": {
    "scrolled": true
   },
   "outputs": [
    {
     "name": "stdout",
     "output_type": "stream",
     "text": [
      "please enter any number of your choice to perform the operation:6\n",
      "6 X 1 = 6\n",
      "6 X 2 = 12\n",
      "6 X 3 = 18\n",
      "6 X 4 = 24\n",
      "6 X 5 = 30\n",
      "6 X 6 = 36\n",
      "6 X 7 = 42\n",
      "6 X 8 = 48\n",
      "6 X 9 = 54\n",
      "6 X 10 = 60\n",
      "6 X 11 = 66\n",
      "6 X 12 = 72\n"
     ]
    }
   ],
   "source": [
    "num = int(input('please enter any number of your choice to perform the operation:'))\n",
    "for i in range(1,13):\n",
    "    print(f'{num} X {i} = {num*i}')"
   ]
  },
  {
   "cell_type": "code",
   "execution_count": 7,
   "id": "d6ca5a95",
   "metadata": {},
   "outputs": [
    {
     "name": "stdout",
     "output_type": "stream",
     "text": [
      "the total sum of the generated 50 numbers is 1929\n"
     ]
    }
   ],
   "source": [
    "import random\n",
    "numbers = []\n",
    "counter = 1\n",
    "total = 0\n",
    "while counter <= 50:\n",
    "    num = random.randint(25,40)\n",
    "    numbers.append(num)\n",
    "    counter = counter + 1\n",
    "total = sum(numbers)\n",
    "print(f'the total sum of the generated 50 numbers is {total}')"
   ]
  },
  {
   "cell_type": "code",
   "execution_count": 38,
   "id": "382e332a",
   "metadata": {},
   "outputs": [
    {
     "name": "stdout",
     "output_type": "stream",
     "text": [
      "[40, 37, 31, 28, 40, 25, 37, 38, 25, 39, 33, 32, 28, 35, 25, 25, 25, 25, 37, 31, 38, 25, 32, 39, 40, 32, 36, 32, 32, 39, 34, 25, 38, 28, 30, 34, 28, 35, 38, 31, 34, 34, 40, 37, 26, 40, 32, 37, 38, 30]\n"
     ]
    }
   ],
   "source": [
    "print(numbers)"
   ]
  },
  {
   "cell_type": "code",
   "execution_count": 51,
   "id": "2f080d2a",
   "metadata": {},
   "outputs": [
    {
     "name": "stdout",
     "output_type": "stream",
     "text": [
      "provide your staff number:SSS656\n",
      "WELCOME TO HR DEPARTMENT OF VICTOR VENTURES\n",
      "KINDLY FIND YOUR  POSTING DETAILS BELOW\n",
      "NAME:maryjane edet\n",
      "GENDER:female\n",
      "QUALIFICATION:HND computer science\n",
      "AGE:24\n",
      "MARITAL STATUS:single\n",
      "\n",
      "CONGRATULATIONS YOU HAVE BEEN POSTED TO river\n",
      " \n"
     ]
    }
   ],
   "source": [
    "employees_record = {\n",
    "    'SSS123':['agba okuro','male','Bsc accounting',30,'single'],\n",
    "    'SSS587':['okon rosemary','female','Msc business administration',27,'single'],\n",
    "    'SSS656':['maryjane edet','female','HND computer science',24,'single'],\n",
    "}\n",
    "\n",
    "states = ['abuja','osun','kaduna','river','edo']\n",
    "\n",
    "staff_number = input('provide your staff number:')\n",
    "for key in employees_record:\n",
    "    if key == staff_number:\n",
    "        print(f'''WELCOME TO HR DEPARTMENT OF VICTOR VENTURES\n",
    "KINDLY FIND YOUR  POSTING DETAILS BELOW\n",
    "NAME:{employees_record[staff_number][0]}\n",
    "GENDER:{employees_record[staff_number][1]}\n",
    "QUALIFICATION:{employees_record[staff_number][2]}\n",
    "AGE:{employees_record[staff_number][3]}\n",
    "MARITAL STATUS:{employees_record[staff_number][4]}\n",
    "\n",
    "CONGRATULATIONS YOU HAVE BEEN POSTED TO {random.choice(states)}\n",
    " ''')\n"
   ]
  },
  {
   "cell_type": "code",
   "execution_count": null,
   "id": "be05d0f8",
   "metadata": {},
   "outputs": [],
   "source": []
  },
  {
   "cell_type": "code",
   "execution_count": null,
   "id": "603c09c9",
   "metadata": {},
   "outputs": [],
   "source": []
  }
 ],
 "metadata": {
  "kernelspec": {
   "display_name": "Python 3",
   "language": "python",
   "name": "python3"
  },
  "language_info": {
   "codemirror_mode": {
    "name": "ipython",
    "version": 3
   },
   "file_extension": ".py",
   "mimetype": "text/x-python",
   "name": "python",
   "nbconvert_exporter": "python",
   "pygments_lexer": "ipython3",
   "version": "3.8.8"
  }
 },
 "nbformat": 4,
 "nbformat_minor": 5
}
