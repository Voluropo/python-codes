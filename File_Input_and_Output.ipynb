{
 "cells": [
  {
   "cell_type": "code",
   "execution_count": 1,
   "id": "e2541226-5f71-4723-a142-2692de0d3958",
   "metadata": {},
   "outputs": [],
   "source": [
    "file = open('list.doc','w')\n",
    "file.write('''on the first day of our python class we were taught variables,data types, syntax and statements\n",
    "on the second day we were taught string variables concatenation,string method and data types conversion\n",
    "on the third day we were taught operators and input operationwhile on the fourth day we were taught iterable object\n",
    "on the fifth day we were taught modules and conditional statement while on the sixth day was function\n",
    "''')\n",
    "file.close()"
   ]
  },
  {
   "cell_type": "code",
   "execution_count": 5,
   "id": "d5ab90ab-32cd-4a17-8107-72f14d4f6b97",
   "metadata": {},
   "outputs": [
    {
     "name": "stdout",
     "output_type": "stream",
     "text": [
      "on the first day of our python class we were taught variables,data types, syntax and statements\n",
      "on the second day we were taught string variables concatenation,string method and data types conversion\n",
      "on the third day we were taught operators and input operationwhile on the fourth day we were taught iterable object\n",
      "on the fifth day we were taught modules and conditional statement while on the sixth day was function\n",
      "\n"
     ]
    }
   ],
   "source": [
    "file1 = open('list.doc','r')\n",
    "print(file1.read())\n",
    "file1.close()"
   ]
  },
  {
   "cell_type": "code",
   "execution_count": 8,
   "id": "70e9402b-994b-4fdb-ab2f-bd4aa84a27e5",
   "metadata": {},
   "outputs": [
    {
     "name": "stdout",
     "output_type": "stream",
     "text": [
      "price1 = 30000\n",
      "price2 = 50000\n",
      "price3 = 150000\n",
      "total = sum([price1,price2,price3])\n",
      "report= ' at end of the day activities the total deposit that came in is {},mr.ade deposited {} mrs.nkechi {} mr.sola{}   '\n",
      "print(report.format(total,price1,price2,price3))\n",
      "print(f'at end of the day activities the total deposit that came in is {total},mr.ade deposited {price1} mrs.nkechi {price2} mr.sola{price3}')\n",
      "\n",
      "\n",
      "\n",
      "s_nane1 = 'school'\n",
      "s_nane2 = 'SCHOOL'\n",
      "s_nane3 = 'pyhton is an high level programming language'\n",
      "s_nane4 = '   voluropo@gmail.com   '\n",
      "print(s_nane1.upper())\n",
      "print(s_nane2.lower())\n",
      "print(s_nane3.capitalize())\n",
      "print(s_nane3.title())\n",
      "print(s_nane3.split())\n",
      "print(s_nane4)\n",
      "print(s_nane4.strip())\n",
      "\n",
      "\n",
      "num=2\n",
      "num=3.2\n",
      "num= 'iron'\n",
      "num= '4'\n",
      "\n",
      "#1.an integer can be converted to string and float#\n",
      "#2.you can convert float to integer and string#\n",
      "#3.you cannot convert string to integer or float#\n",
      "#4.but we can convert a number in a string to integer or float#\n",
      "\n",
      "print(str(num))\n",
      "\n",
      "\n",
      "assignment\n",
      "#1.declare a variable called poem assign your favourite poem to it everything should be printed line by line in uppercase\n",
      "#2.declare the following variables 1. office of the president 2. name of president 3. state of president 4.date of birth of president 5.party of president\n",
      " all should be displayed in uppercase\n",
      "\n",
      " use pascal case,snake case or camel case\n",
      "\n",
      "\n",
      "\n"
     ]
    }
   ],
   "source": [
    "file2 = open('day2.py','r')\n",
    "print(file2.read())\n",
    "file2.close()"
   ]
  },
  {
   "cell_type": "code",
   "execution_count": 11,
   "id": "5a3a1c66-3067-45e3-80bf-bed47e9a8ae8",
   "metadata": {},
   "outputs": [],
   "source": [
    "file2 = open('list.doc','a')\n",
    "file2.write('''\\non the seventh day we had our first milestone project\n",
    "on the eight day we were taught kwargs and args and on the ninth day we taught map filter and lambda\n",
    "on the ninth day we were taught  MYSQL and on the eleventh day we were taught cllass and object\n",
    "on the twelvth day we were taught date aand time\n",
    "''')\n",
    "file2.close()"
   ]
  },
  {
   "cell_type": "code",
   "execution_count": 13,
   "id": "a658a65e-93fb-416e-93a3-bbbe51d4f264",
   "metadata": {},
   "outputs": [
    {
     "name": "stdout",
     "output_type": "stream",
     "text": [
      "  And here we are having a nice time\n",
      "e were taught variables,data types, syntax and statements\n",
      "on the second day we were taught string variables concatenation,string method and data types conversion\n",
      "on the third day we were taught operators and input operationwhile on the fourth day we were taught iterable object\n",
      "on the fifth day we were taught modules and conditional statement while on the sixth day was function\n",
      "\\on the seventh day we had our first milestone project\n",
      "on the eight day we were taught kwargs and args and on the ninth day we taught map filter and lambda\n",
      "on the ninth day we were taught  MYSQL and on the eleventh day we were taught cllass and object\n",
      "on the twelvth day we were taught date aand time\n",
      "\n",
      "on the seventh day we had our first milestone project\n",
      "on the eight day we were taught kwargs and args and on the ninth day we taught map filter and lambda\n",
      "on the ninth day we were taught  MYSQL and on the eleventh day we were taught cllass and object\n",
      "on the twelvth day we were taught date aand time\n",
      "\n"
     ]
    }
   ],
   "source": [
    "file4 = open('list.doc','r+')\n",
    "print(file4.read())\n",
    "file4.write ('''  And here we are having a nice time\n",
    "''')\n",
    "file4.close()"
   ]
  },
  {
   "cell_type": "code",
   "execution_count": 15,
   "id": "86acb0a4-df6d-49fb-8f4b-f1bfad4e11c3",
   "metadata": {},
   "outputs": [
    {
     "name": "stdout",
     "output_type": "stream",
     "text": [
      "  And here we are having a nice time\n",
      "e were taught variables,data types, syntax and statements\n",
      "on the second day we were taught string variables concatenation,string method and data types conversion\n",
      "on the third day we were taught operators and input operationwhile on the fourth day we were taught iterable object\n",
      "on the fifth day we were taught modules and conditional statement while on the sixth day was function\n",
      "\\on the seventh day we had our first milestone project\n",
      "on the eight day we were taught kwargs and args and on the ninth day we taught map filter and lambda\n",
      "on the ninth day we were taught  MYSQL and on the eleventh day we were taught cllass and object\n",
      "on the twelvth day we were taught date aand time\n",
      "\n",
      "on the seventh day we had our first milestone project\n",
      "on the eight day we were taught kwargs and args and on the ninth day we taught map filter and lambda\n",
      "on the ninth day we were taught  MYSQL and on the eleventh day we were taught cllass and object\n",
      "on the twelvth day we were taught date aand time\n",
      "  And here we are having a nice time\n",
      "\n"
     ]
    }
   ],
   "source": [
    "file4 = open('list.doc','r')\n",
    "print(file4.read())\n",
    "file4.close()"
   ]
  },
  {
   "cell_type": "code",
   "execution_count": 6,
   "id": "6389130d-047c-4e77-81e9-b1f50c50d024",
   "metadata": {},
   "outputs": [
    {
     "name": "stdout",
     "output_type": "stream",
     "text": [
      "the word that has the maximum frequency :we\n",
      "1\n",
      "good job\n"
     ]
    }
   ],
   "source": [
    "from collections import defaultdict\n",
    "try: \n",
    "    file = open('list.doc','r')\n",
    "    content = file.read()\n",
    "    c_split = content.split()\n",
    "    frequent_word = defaultdict(int)\n",
    "    result = 0\n",
    "    frequency = 0\n",
    "except FileNotFoundError:\n",
    "    ('Hey file does not exist, do so by creating a file first and come back')\n",
    "else:\n",
    "    for word in c_split:\n",
    "        frequent_word[word] +=1\n",
    "        result = max(frequent_word, key=frequent_word.get)\n",
    "        \n",
    "    for i in range(0,len(c_split)):\n",
    "        count = 1\n",
    "        for j in range(i +1, len(c_split)):\n",
    "            if( c_split[i] == c_split[j]):\n",
    "                count +=1\n",
    "    if (count > frequency):\n",
    "        frequency = count\n",
    "finally:\n",
    "    print(f\"the word that has the maximum frequency :{result}\")\n",
    "    print(frequency)\n",
    "    print('good job')\n",
    "    #file.close()\n",
    "    "
   ]
  },
  {
   "cell_type": "code",
   "execution_count": 8,
   "id": "94d4b3cc-b159-4ac3-bf71-33ef48c8a9be",
   "metadata": {},
   "outputs": [
    {
     "name": "stdout",
     "output_type": "stream",
     "text": [
      "['ChainMap', 'Counter', 'OrderedDict', 'UserDict', 'UserList', 'UserString', '_Link', '_OrderedDictItemsView', '_OrderedDictKeysView', '_OrderedDictValuesView', '__all__', '__builtins__', '__cached__', '__doc__', '__file__', '__getattr__', '__loader__', '__name__', '__package__', '__path__', '__spec__', '_chain', '_collections_abc', '_count_elements', '_eq', '_heapq', '_iskeyword', '_itemgetter', '_proxy', '_recursive_repr', '_repeat', '_starmap', '_sys', '_tuplegetter', 'abc', 'defaultdict', 'deque', 'namedtuple']\n"
     ]
    }
   ],
   "source": [
    "import collections\n",
    "print(dir(collections))"
   ]
  },
  {
   "cell_type": "code",
   "execution_count": 10,
   "id": "763a87cd-5b31-45ee-9983-2dec301a017b",
   "metadata": {},
   "outputs": [
    {
     "data": {
      "text/plain": [
       "Counter({'And': 2,\n",
       "         'here': 2,\n",
       "         'we': 18,\n",
       "         'are': 2,\n",
       "         'having': 2,\n",
       "         'a': 2,\n",
       "         'nice': 2,\n",
       "         'time': 4,\n",
       "         'e': 1,\n",
       "         'were': 13,\n",
       "         'taught': 15,\n",
       "         'variables,data': 1,\n",
       "         'types,': 1,\n",
       "         'syntax': 1,\n",
       "         'and': 14,\n",
       "         'statements': 1,\n",
       "         'on': 16,\n",
       "         'the': 17,\n",
       "         'second': 1,\n",
       "         'day': 17,\n",
       "         'string': 1,\n",
       "         'variables': 1,\n",
       "         'concatenation,string': 1,\n",
       "         'method': 1,\n",
       "         'data': 1,\n",
       "         'types': 1,\n",
       "         'conversion': 1,\n",
       "         'third': 1,\n",
       "         'operators': 1,\n",
       "         'input': 1,\n",
       "         'operationwhile': 1,\n",
       "         'fourth': 1,\n",
       "         'iterable': 1,\n",
       "         'object': 3,\n",
       "         'fifth': 1,\n",
       "         'modules': 1,\n",
       "         'conditional': 1,\n",
       "         'statement': 1,\n",
       "         'while': 1,\n",
       "         'sixth': 1,\n",
       "         'was': 1,\n",
       "         'function': 1,\n",
       "         '\\\\on': 1,\n",
       "         'seventh': 2,\n",
       "         'had': 2,\n",
       "         'our': 2,\n",
       "         'first': 2,\n",
       "         'milestone': 2,\n",
       "         'project': 2,\n",
       "         'eight': 2,\n",
       "         'kwargs': 2,\n",
       "         'args': 2,\n",
       "         'ninth': 4,\n",
       "         'map': 2,\n",
       "         'filter': 2,\n",
       "         'lambda': 2,\n",
       "         'MYSQL': 2,\n",
       "         'eleventh': 2,\n",
       "         'cllass': 2,\n",
       "         'twelvth': 2,\n",
       "         'date': 2,\n",
       "         'aand': 2})"
      ]
     },
     "execution_count": 10,
     "metadata": {},
     "output_type": "execute_result"
    }
   ],
   "source": [
    "collections.Counter(c_split)"
   ]
  },
  {
   "cell_type": "code",
   "execution_count": null,
   "id": "54f0468c-d8a0-47cd-99e7-e3f06592ef06",
   "metadata": {},
   "outputs": [],
   "source": []
  }
 ],
 "metadata": {
  "kernelspec": {
   "display_name": "Python 3",
   "language": "python",
   "name": "python3"
  },
  "language_info": {
   "codemirror_mode": {
    "name": "ipython",
    "version": 3
   },
   "file_extension": ".py",
   "mimetype": "text/x-python",
   "name": "python",
   "nbconvert_exporter": "python",
   "pygments_lexer": "ipython3",
   "version": "3.8.8"
  }
 },
 "nbformat": 4,
 "nbformat_minor": 5
}
