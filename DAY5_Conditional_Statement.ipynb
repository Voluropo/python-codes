{
 "cells": [
  {
   "cell_type": "code",
   "execution_count": 1,
   "id": "726caa7b",
   "metadata": {},
   "outputs": [],
   "source": [
    "# conditional statement"
   ]
  },
  {
   "cell_type": "code",
   "execution_count": 2,
   "id": "5e92f418",
   "metadata": {},
   "outputs": [
    {
     "name": "stdout",
     "output_type": "stream",
     "text": [
      "you are very correct\n"
     ]
    }
   ],
   "source": [
    "num = 10\n",
    "if num < 50:\n",
    "    print('you are very correct')"
   ]
  },
  {
   "cell_type": "code",
   "execution_count": 3,
   "id": "b1ceb567",
   "metadata": {},
   "outputs": [
    {
     "name": "stdout",
     "output_type": "stream",
     "text": [
      "operation is not correct\n"
     ]
    }
   ],
   "source": [
    "num = 10\n",
    "if num > 50:\n",
    "    print('you are very correct')\n",
    "else:\n",
    "        print('operation is not correct')"
   ]
  },
  {
   "cell_type": "code",
   "execution_count": 4,
   "id": "1d67d187",
   "metadata": {},
   "outputs": [
    {
     "ename": "SyntaxError",
     "evalue": "invalid syntax (<ipython-input-4-67912cc33ffb>, line 1)",
     "output_type": "error",
     "traceback": [
      "\u001b[1;36m  File \u001b[1;32m\"<ipython-input-4-67912cc33ffb>\"\u001b[1;36m, line \u001b[1;32m1\u001b[0m\n\u001b[1;33m    if the weight of th chicken >=5 and <= 10 then chiken will be sold for 200 else it\u001b[0m\n\u001b[1;37m           ^\u001b[0m\n\u001b[1;31mSyntaxError\u001b[0m\u001b[1;31m:\u001b[0m invalid syntax\n"
     ]
    }
   ],
   "source": [
    "if the weight of th chicken >=5 and <= 10 then chiken will be sold for 200 else it"
   ]
  },
  {
   "cell_type": "code",
   "execution_count": null,
   "id": "b2a552a6",
   "metadata": {},
   "outputs": [],
   "source": [
    "w_chicken = int(input('please enter the weight of the chicken:'))\n",
    "if w_chicken >= 5 and w_chicken <= 10:\n",
    "    print('chicken will be sold for 100')\n",
    "else:\n",
    "    print('chicken will be sold for 200')"
   ]
  },
  {
   "cell_type": "code",
   "execution_count": null,
   "id": "09efd218",
   "metadata": {},
   "outputs": [],
   "source": [
    "speed1 = 70\n",
    "speed2 = int(input('driver\\'s speed:'))\n",
    "if speed2 <= speed1:\n",
    "    print('Boss:you are on track')\n",
    "else:\n",
    "    speed3 =(speed2 - speed1)//5\n",
    "    if speed3 <= 12:\n",
    "        print(f'Boss:hey you are driving above the default speed be warned and the extra point is:{speed3}')\n",
    "    else:\n",
    "        print(f'Boss:hey your driving is above the speed with an extra high point of {speed3}, you are hereby suspended')\n",
    "    \n",
    "        "
   ]
  },
  {
   "cell_type": "code",
   "execution_count": null,
   "id": "eb9ceafe",
   "metadata": {},
   "outputs": [],
   "source": [
    "num = int(input('enter number:'))\n",
    "if num == 0:\n",
    "    print('you are correct')\n",
    "else:\n",
    "    if num < 0:\n",
    "        print('you entered a negative number')\n",
    "    else:\n",
    "        print('you entered a positive number')\n"
   ]
  },
  {
   "cell_type": "code",
   "execution_count": null,
   "id": "c9a78019",
   "metadata": {},
   "outputs": [],
   "source": [
    "num = int(input('enter number:'))\n",
    "if num == 0:\n",
    "    print('number is zero')\n",
    "elif num < 0:\n",
    "    print('number is negative')\n",
    "else:\n",
    "    print('number is positive')\n",
    "\n"
   ]
  },
  {
   "cell_type": "code",
   "execution_count": 12,
   "id": "8f194498",
   "metadata": {},
   "outputs": [
    {
     "ename": "TypeError",
     "evalue": "'datetime.datetime' object is not callable",
     "output_type": "error",
     "traceback": [
      "\u001b[1;31m---------------------------------------------------------------------------\u001b[0m",
      "\u001b[1;31mTypeError\u001b[0m                                 Traceback (most recent call last)",
      "\u001b[1;32m<ipython-input-12-0db75b56291e>\u001b[0m in \u001b[0;36m<module>\u001b[1;34m\u001b[0m\n\u001b[1;32m----> 1\u001b[1;33m \u001b[0mprint\u001b[0m\u001b[1;33m(\u001b[0m\u001b[1;34m'WELCOME TO SIR VIK\\s RESTAURANT'\u001b[0m\u001b[1;33m)\u001b[0m\u001b[1;33m\u001b[0m\u001b[1;33m\u001b[0m\u001b[0m\n\u001b[0m\u001b[0;32m      2\u001b[0m \u001b[0mprint\u001b[0m\u001b[1;33m(\u001b[0m\u001b[1;34m'HOME OF SWEET STUFFS'\u001b[0m\u001b[1;33m)\u001b[0m\u001b[1;33m\u001b[0m\u001b[1;33m\u001b[0m\u001b[0m\n\u001b[0;32m      3\u001b[0m \u001b[0mprint\u001b[0m\u001b[1;33m(\u001b[0m\u001b[1;34m'WE ARE ALWAYS AT YOUR SERVICE'\u001b[0m\u001b[1;33m)\u001b[0m\u001b[1;33m\u001b[0m\u001b[1;33m\u001b[0m\u001b[0m\n\u001b[0;32m      4\u001b[0m \u001b[1;33m\u001b[0m\u001b[0m\n\u001b[0;32m      5\u001b[0m \u001b[0mchoice\u001b[0m \u001b[1;33m=\u001b[0m \u001b[0mint\u001b[0m \u001b[1;33m(\u001b[0m\u001b[0minput\u001b[0m\u001b[1;33m(\u001b[0m\u001b[1;34m'please enter your number:'\u001b[0m\u001b[1;33m)\u001b[0m\u001b[1;33m)\u001b[0m\u001b[1;33m\u001b[0m\u001b[1;33m\u001b[0m\u001b[0m\n",
      "\u001b[1;31mTypeError\u001b[0m: 'datetime.datetime' object is not callable"
     ]
    }
   ],
   "source": [
    "print('WELCOME TO SIR VIK\\s RESTAURANT')\n",
    "print('HOME OF SWEET STUFFS')\n",
    "print('WE ARE ALWAYS AT YOUR SERVICE')\n",
    "\n",
    "choice = int (input('please enter your number:'))\n",
    "if choice == 1:\n",
    "    print('you have chosen rice and beans')\n",
    "elif choice == 2:\n",
    "    print('you will be served swallow')\n",
    "elif choice == 3:\n",
    "    print('you will be served beverages')\n",
    "elif choice == 4:\n",
    "    print('you have chosen garri and groundnut')\n",
    "else:\n",
    "    print('you will be served nothing')"
   ]
  },
  {
   "cell_type": "code",
   "execution_count": 13,
   "id": "00ba9430",
   "metadata": {},
   "outputs": [
    {
     "ename": "TypeError",
     "evalue": "'datetime.datetime' object is not callable",
     "output_type": "error",
     "traceback": [
      "\u001b[1;31m---------------------------------------------------------------------------\u001b[0m",
      "\u001b[1;31mTypeError\u001b[0m                                 Traceback (most recent call last)",
      "\u001b[1;32m<ipython-input-13-58ea7161065e>\u001b[0m in \u001b[0;36m<module>\u001b[1;34m\u001b[0m\n\u001b[0;32m      1\u001b[0m \u001b[1;32mimport\u001b[0m \u001b[0mdatetime\u001b[0m\u001b[1;33m\u001b[0m\u001b[1;33m\u001b[0m\u001b[0m\n\u001b[1;32m----> 2\u001b[1;33m \u001b[0mprint\u001b[0m\u001b[1;33m(\u001b[0m\u001b[0mdir\u001b[0m\u001b[1;33m(\u001b[0m\u001b[0mdatetime\u001b[0m\u001b[1;33m)\u001b[0m\u001b[1;33m)\u001b[0m\u001b[1;33m\u001b[0m\u001b[1;33m\u001b[0m\u001b[0m\n\u001b[0m",
      "\u001b[1;31mTypeError\u001b[0m: 'datetime.datetime' object is not callable"
     ]
    }
   ],
   "source": [
    "import datetime\n",
    "print(dir(datetime))"
   ]
  },
  {
   "cell_type": "code",
   "execution_count": 6,
   "id": "b9969d0d",
   "metadata": {},
   "outputs": [],
   "source": [
    "current = datetime.datetime.now()"
   ]
  },
  {
   "cell_type": "code",
   "execution_count": 11,
   "id": "312906df",
   "metadata": {},
   "outputs": [],
   "source": [
    "print = (current)"
   ]
  },
  {
   "cell_type": "code",
   "execution_count": null,
   "id": "baaf2de8-587a-4c3c-89f1-b48c4cea9d70",
   "metadata": {},
   "outputs": [],
   "source": []
  }
 ],
 "metadata": {
  "kernelspec": {
   "display_name": "Python 3",
   "language": "python",
   "name": "python3"
  },
  "language_info": {
   "codemirror_mode": {
    "name": "ipython",
    "version": 3
   },
   "file_extension": ".py",
   "mimetype": "text/x-python",
   "name": "python",
   "nbconvert_exporter": "python",
   "pygments_lexer": "ipython3",
   "version": "3.8.8"
  }
 },
 "nbformat": 4,
 "nbformat_minor": 5
}
