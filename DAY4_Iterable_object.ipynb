{
 "cells": [
  {
   "cell_type": "code",
   "execution_count": 9,
   "id": "a174342b",
   "metadata": {},
   "outputs": [],
   "source": [
    "number = (5,6,9,5,2,4,2,1,4,4,1,4,1,3,4,3,1)"
   ]
  },
  {
   "cell_type": "code",
   "execution_count": 10,
   "id": "b2db3dad",
   "metadata": {},
   "outputs": [
    {
     "data": {
      "text/plain": [
       "tuple"
      ]
     },
     "execution_count": 10,
     "metadata": {},
     "output_type": "execute_result"
    }
   ],
   "source": [
    "type(number)"
   ]
  },
  {
   "cell_type": "code",
   "execution_count": 11,
   "id": "a13a5c54",
   "metadata": {},
   "outputs": [
    {
     "data": {
      "text/plain": [
       "17"
      ]
     },
     "execution_count": 11,
     "metadata": {},
     "output_type": "execute_result"
    }
   ],
   "source": [
    "len(number)"
   ]
  },
  {
   "cell_type": "code",
   "execution_count": 12,
   "id": "95b5dd7e",
   "metadata": {},
   "outputs": [
    {
     "data": {
      "text/plain": [
       "5"
      ]
     },
     "execution_count": 12,
     "metadata": {},
     "output_type": "execute_result"
    }
   ],
   "source": [
    "number[3]"
   ]
  },
  {
   "cell_type": "code",
   "execution_count": 15,
   "id": "cc74659a",
   "metadata": {},
   "outputs": [
    {
     "data": {
      "text/plain": [
       "(5, 2, 4, 2, 1, 4, 4)"
      ]
     },
     "execution_count": 15,
     "metadata": {},
     "output_type": "execute_result"
    }
   ],
   "source": [
    "number[3:10]"
   ]
  },
  {
   "cell_type": "code",
   "execution_count": 16,
   "id": "98bed0ac",
   "metadata": {},
   "outputs": [
    {
     "data": {
      "text/plain": [
       "(5, 2, 4, 2, 1, 4, 4, 1, 4)"
      ]
     },
     "execution_count": 16,
     "metadata": {},
     "output_type": "execute_result"
    }
   ],
   "source": [
    "number[3:-5]"
   ]
  },
  {
   "cell_type": "code",
   "execution_count": 19,
   "id": "6843a5f1",
   "metadata": {},
   "outputs": [
    {
     "name": "stdout",
     "output_type": "stream",
     "text": [
      "True\n"
     ]
    }
   ],
   "source": [
    "print(2 in number)"
   ]
  },
  {
   "cell_type": "code",
   "execution_count": 23,
   "id": "3a8bf0eb",
   "metadata": {},
   "outputs": [
    {
     "data": {
      "text/plain": [
       "2"
      ]
     },
     "execution_count": 23,
     "metadata": {},
     "output_type": "execute_result"
    }
   ],
   "source": [
    "number.count(5)"
   ]
  },
  {
   "cell_type": "code",
   "execution_count": 24,
   "id": "c44df270",
   "metadata": {},
   "outputs": [
    {
     "data": {
      "text/plain": [
       "0"
      ]
     },
     "execution_count": 24,
     "metadata": {},
     "output_type": "execute_result"
    }
   ],
   "source": [
    "number.index(5)"
   ]
  },
  {
   "cell_type": "code",
   "execution_count": 29,
   "id": "a0804811",
   "metadata": {},
   "outputs": [
    {
     "data": {
      "text/plain": [
       "3"
      ]
     },
     "execution_count": 29,
     "metadata": {},
     "output_type": "execute_result"
    }
   ],
   "source": [
    "number.index(5,1,6)"
   ]
  },
  {
   "cell_type": "code",
   "execution_count": 45,
   "id": "13b347a2",
   "metadata": {},
   "outputs": [],
   "source": [
    "fruits = ['orange','mango','apple','pear','banana']"
   ]
  },
  {
   "cell_type": "code",
   "execution_count": 46,
   "id": "c5afdf76",
   "metadata": {},
   "outputs": [],
   "source": [
    "fruits.append('pawpaw')"
   ]
  },
  {
   "cell_type": "code",
   "execution_count": 50,
   "id": "4594cab2",
   "metadata": {},
   "outputs": [
    {
     "name": "stdout",
     "output_type": "stream",
     "text": [
      "['orange', 'mango', 'apple', 'pear', 'banana', 'pawpaw']\n"
     ]
    }
   ],
   "source": [
    "print(fruits)"
   ]
  },
  {
   "cell_type": "code",
   "execution_count": 51,
   "id": "4497f688",
   "metadata": {},
   "outputs": [],
   "source": [
    "fruit = ('orange','melon','guava','banana','pear')"
   ]
  },
  {
   "cell_type": "code",
   "execution_count": 57,
   "id": "77cf7aca",
   "metadata": {},
   "outputs": [],
   "source": [
    "fruits.extend(fruit)"
   ]
  },
  {
   "cell_type": "code",
   "execution_count": 60,
   "id": "945acd20",
   "metadata": {},
   "outputs": [
    {
     "name": "stdout",
     "output_type": "stream",
     "text": [
      "['orange', 'mango', 'apple', 'pear', 'banana', 'pawpaw', 'orange', 'melon', 'guava', 'banana', 'pear', 'orange', 'melon', 'guava', 'banana', 'pear', 'f', 'r', 'u', 'i', 't', 'orange', 'melon', 'guava', 'banana', 'pear', 'orange', 'melon', 'guava', 'banana', 'pear']\n"
     ]
    }
   ],
   "source": [
    "print(fruits)"
   ]
  },
  {
   "cell_type": "code",
   "execution_count": 61,
   "id": "dd3a1adb",
   "metadata": {},
   "outputs": [],
   "source": [
    "f = []"
   ]
  },
  {
   "cell_type": "code",
   "execution_count": 65,
   "id": "00f05ab1",
   "metadata": {},
   "outputs": [],
   "source": [
    "fruits.insert(2,'orange')"
   ]
  },
  {
   "cell_type": "code",
   "execution_count": 66,
   "id": "8aa1ea57",
   "metadata": {},
   "outputs": [
    {
     "name": "stdout",
     "output_type": "stream",
     "text": [
      "['orange', 'mango', 'orange', 'apple', 'pear', 'banana', 'pawpaw', 'orange', 'melon', 'guava', 'banana', 'pear', 'orange', 'melon', 'guava', 'banana', 'pear', 'f', 'r', 'u', 'i', 't', 'orange', 'melon', 'guava', 'banana', 'pear', 'orange', 'melon', 'guava', 'banana', 'pear']\n"
     ]
    }
   ],
   "source": [
    "print(fruits)"
   ]
  },
  {
   "cell_type": "code",
   "execution_count": 69,
   "id": "e8ed0c23",
   "metadata": {},
   "outputs": [],
   "source": [
    "fruits.sort()"
   ]
  },
  {
   "cell_type": "code",
   "execution_count": 70,
   "id": "b5ff87f3",
   "metadata": {},
   "outputs": [
    {
     "name": "stdout",
     "output_type": "stream",
     "text": [
      "['apple', 'banana', 'banana', 'banana', 'banana', 'banana', 'f', 'guava', 'guava', 'guava', 'guava', 'i', 'mango', 'melon', 'melon', 'melon', 'melon', 'orange', 'orange', 'orange', 'orange', 'orange', 'orange', 'pawpaw', 'pear', 'pear', 'pear', 'pear', 'pear', 'r', 't', 'u']\n"
     ]
    }
   ],
   "source": [
    "print(fruits)"
   ]
  },
  {
   "cell_type": "code",
   "execution_count": 71,
   "id": "ab11bef8",
   "metadata": {},
   "outputs": [],
   "source": [
    "fruits.reverse()"
   ]
  },
  {
   "cell_type": "code",
   "execution_count": 72,
   "id": "543b84a1",
   "metadata": {},
   "outputs": [
    {
     "name": "stdout",
     "output_type": "stream",
     "text": [
      "['u', 't', 'r', 'pear', 'pear', 'pear', 'pear', 'pear', 'pawpaw', 'orange', 'orange', 'orange', 'orange', 'orange', 'orange', 'melon', 'melon', 'melon', 'melon', 'mango', 'i', 'guava', 'guava', 'guava', 'guava', 'f', 'banana', 'banana', 'banana', 'banana', 'banana', 'apple']\n"
     ]
    }
   ],
   "source": [
    "print(fruits)"
   ]
  },
  {
   "cell_type": "code",
   "execution_count": 74,
   "id": "0e3edb52",
   "metadata": {},
   "outputs": [
    {
     "data": {
      "text/plain": [
       "'apple'"
      ]
     },
     "execution_count": 74,
     "metadata": {},
     "output_type": "execute_result"
    }
   ],
   "source": [
    "fruits.pop()\n"
   ]
  },
  {
   "cell_type": "code",
   "execution_count": 78,
   "id": "9528aba4",
   "metadata": {},
   "outputs": [
    {
     "data": {
      "text/plain": [
       "'pear'"
      ]
     },
     "execution_count": 78,
     "metadata": {},
     "output_type": "execute_result"
    }
   ],
   "source": [
    "fruits.pop(6)"
   ]
  },
  {
   "cell_type": "code",
   "execution_count": 87,
   "id": "68ed4c04",
   "metadata": {},
   "outputs": [],
   "source": [
    "fruits.remove('melon')"
   ]
  },
  {
   "cell_type": "code",
   "execution_count": 88,
   "id": "6c463bf6",
   "metadata": {},
   "outputs": [
    {
     "name": "stdout",
     "output_type": "stream",
     "text": [
      "['u', 't', 'r', 'pear', 'pear', 'pear', 'pear', 'pawpaw', 'orange', 'orange', 'orange', 'orange', 'orange', 'orange', 'mango', 'i', 'guava', 'guava', 'guava', 'guava', 'f', 'banana', 'banana', 'banana', 'banana', 'banana']\n"
     ]
    }
   ],
   "source": [
    "print(fruits)"
   ]
  },
  {
   "cell_type": "code",
   "execution_count": 94,
   "id": "7572a3db",
   "metadata": {},
   "outputs": [
    {
     "data": {
      "text/plain": [
       "4"
      ]
     },
     "execution_count": 94,
     "metadata": {},
     "output_type": "execute_result"
    }
   ],
   "source": [
    "fruits.count('pear')"
   ]
  },
  {
   "cell_type": "code",
   "execution_count": 93,
   "id": "a7f4c46c",
   "metadata": {},
   "outputs": [
    {
     "data": {
      "text/plain": [
       "16"
      ]
     },
     "execution_count": 93,
     "metadata": {},
     "output_type": "execute_result"
    }
   ],
   "source": [
    "fruits.index('guava')"
   ]
  },
  {
   "cell_type": "code",
   "execution_count": 97,
   "id": "0e771f2e",
   "metadata": {},
   "outputs": [],
   "source": [
    "f2 = fruits.copy()"
   ]
  },
  {
   "cell_type": "code",
   "execution_count": 98,
   "id": "8abd0dae",
   "metadata": {},
   "outputs": [
    {
     "name": "stdout",
     "output_type": "stream",
     "text": [
      "['u', 't', 'r', 'pear', 'pear', 'pear', 'pear', 'pawpaw', 'orange', 'orange', 'orange', 'orange', 'orange', 'orange', 'mango', 'i', 'guava', 'guava', 'guava', 'guava', 'f', 'banana', 'banana', 'banana', 'banana', 'banana']\n"
     ]
    }
   ],
   "source": [
    "print(f2)"
   ]
  },
  {
   "cell_type": "code",
   "execution_count": 103,
   "id": "e548c23c",
   "metadata": {},
   "outputs": [],
   "source": [
    "f2.clear()"
   ]
  },
  {
   "cell_type": "code",
   "execution_count": 104,
   "id": "8c1e37af",
   "metadata": {},
   "outputs": [
    {
     "name": "stdout",
     "output_type": "stream",
     "text": [
      "[]\n"
     ]
    }
   ],
   "source": [
    "print(f2)"
   ]
  },
  {
   "cell_type": "code",
   "execution_count": 109,
   "id": "1e0416f0",
   "metadata": {},
   "outputs": [],
   "source": [
    "del(f2)"
   ]
  },
  {
   "cell_type": "code",
   "execution_count": 110,
   "id": "8e5507bc",
   "metadata": {},
   "outputs": [
    {
     "ename": "NameError",
     "evalue": "name 'f2' is not defined",
     "output_type": "error",
     "traceback": [
      "\u001b[1;31m---------------------------------------------------------------------------\u001b[0m",
      "\u001b[1;31mNameError\u001b[0m                                 Traceback (most recent call last)",
      "\u001b[1;32m<ipython-input-110-819262e41464>\u001b[0m in \u001b[0;36m<module>\u001b[1;34m\u001b[0m\n\u001b[1;32m----> 1\u001b[1;33m \u001b[0mprint\u001b[0m\u001b[1;33m(\u001b[0m\u001b[0mf2\u001b[0m\u001b[1;33m)\u001b[0m\u001b[1;33m\u001b[0m\u001b[1;33m\u001b[0m\u001b[0m\n\u001b[0m",
      "\u001b[1;31mNameError\u001b[0m: name 'f2' is not defined"
     ]
    }
   ],
   "source": [
    "print(f2)"
   ]
  },
  {
   "cell_type": "code",
   "execution_count": 112,
   "id": "8394bcd0",
   "metadata": {},
   "outputs": [],
   "source": [
    "records = {\n",
    "    'name':'victor',\n",
    "    'gender':'male',\n",
    "    'age':18\n",
    "}"
   ]
  },
  {
   "cell_type": "code",
   "execution_count": 115,
   "id": "d338875d",
   "metadata": {},
   "outputs": [
    {
     "data": {
      "text/plain": [
       "'victor'"
      ]
     },
     "execution_count": 115,
     "metadata": {},
     "output_type": "execute_result"
    }
   ],
   "source": [
    "records['name']"
   ]
  },
  {
   "cell_type": "code",
   "execution_count": 116,
   "id": "0760e1e9",
   "metadata": {},
   "outputs": [
    {
     "data": {
      "text/plain": [
       "dict_values(['victor', 'male', 18])"
      ]
     },
     "execution_count": 116,
     "metadata": {},
     "output_type": "execute_result"
    }
   ],
   "source": [
    "records.values()"
   ]
  },
  {
   "cell_type": "code",
   "execution_count": 117,
   "id": "1ed57d8c",
   "metadata": {},
   "outputs": [
    {
     "data": {
      "text/plain": [
       "dict_keys(['name', 'gender', 'age'])"
      ]
     },
     "execution_count": 117,
     "metadata": {},
     "output_type": "execute_result"
    }
   ],
   "source": [
    "records.keys()"
   ]
  },
  {
   "cell_type": "code",
   "execution_count": 118,
   "id": "02c9172a",
   "metadata": {},
   "outputs": [
    {
     "data": {
      "text/plain": [
       "dict_items([('name', 'victor'), ('gender', 'male'), ('age', 18)])"
      ]
     },
     "execution_count": 118,
     "metadata": {},
     "output_type": "execute_result"
    }
   ],
   "source": [
    "records.items()"
   ]
  },
  {
   "cell_type": "code",
   "execution_count": 121,
   "id": "9f2ee502",
   "metadata": {},
   "outputs": [],
   "source": [
    "family = {\n",
    "    'firstchild':['victor','male',18,1.61,60],\n",
    "     'secondchild':['samuel','male',16,1.58,52],\n",
    "    'thirdchild':['rachael','female',12,1.50,44]\n",
    "}"
   ]
  },
  {
   "cell_type": "code",
   "execution_count": 126,
   "id": "c9b53552",
   "metadata": {},
   "outputs": [
    {
     "data": {
      "text/plain": [
       "'victor'"
      ]
     },
     "execution_count": 126,
     "metadata": {},
     "output_type": "execute_result"
    }
   ],
   "source": [
    "family['firstchild'][0]"
   ]
  },
  {
   "cell_type": "code",
   "execution_count": 3,
   "id": "80100fb0",
   "metadata": {},
   "outputs": [],
   "source": [
    "family = {\n",
    "    'firstchild':{'name':'victor','gender':'male','age':18,'height':1.61,'weight':60},\n",
    "     'secondchild':{'name':'samuel','gender':'male','age':16,'height':1.58,'weight':52},\n",
    "    'thirdchild':{'name':'rachael','gender':'female','age':12,'height':1.50,'weight':44}\n",
    "}"
   ]
  },
  {
   "cell_type": "code",
   "execution_count": 2,
   "id": "bb1ee983",
   "metadata": {},
   "outputs": [
    {
     "ename": "NameError",
     "evalue": "name 'family' is not defined",
     "output_type": "error",
     "traceback": [
      "\u001b[1;31m---------------------------------------------------------------------------\u001b[0m",
      "\u001b[1;31mNameError\u001b[0m                                 Traceback (most recent call last)",
      "\u001b[1;32m<ipython-input-2-686ee4429fd0>\u001b[0m in \u001b[0;36m<module>\u001b[1;34m\u001b[0m\n\u001b[1;32m----> 1\u001b[1;33m \u001b[0mfamily\u001b[0m\u001b[1;33m[\u001b[0m\u001b[1;34m'secondchild'\u001b[0m\u001b[1;33m]\u001b[0m\u001b[1;33m[\u001b[0m\u001b[1;34m'3'\u001b[0m\u001b[1;33m]\u001b[0m\u001b[1;33m\u001b[0m\u001b[1;33m\u001b[0m\u001b[0m\n\u001b[0m",
      "\u001b[1;31mNameError\u001b[0m: name 'family' is not defined"
     ]
    }
   ],
   "source": [
    "family['secondchild']['name']"
   ]
  },
  {
   "cell_type": "code",
   "execution_count": null,
   "id": "1f0f97dc",
   "metadata": {},
   "outputs": [],
   "source": []
  },
  {
   "cell_type": "code",
   "execution_count": null,
   "id": "8fa3beb4",
   "metadata": {},
   "outputs": [],
   "source": []
  }
 ],
 "metadata": {
  "kernelspec": {
   "display_name": "Python 3",
   "language": "python",
   "name": "python3"
  },
  "language_info": {
   "codemirror_mode": {
    "name": "ipython",
    "version": 3
   },
   "file_extension": ".py",
   "mimetype": "text/x-python",
   "name": "python",
   "nbconvert_exporter": "python",
   "pygments_lexer": "ipython3",
   "version": "3.8.8"
  }
 },
 "nbformat": 4,
 "nbformat_minor": 5
}
