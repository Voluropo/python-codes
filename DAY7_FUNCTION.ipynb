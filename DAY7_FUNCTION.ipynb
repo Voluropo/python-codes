{
 "cells": [
  {
   "cell_type": "code",
   "execution_count": 1,
   "id": "a24ac2bc",
   "metadata": {},
   "outputs": [],
   "source": [
    "def greet(): #Function without parameter or argument\n",
    "    print('welcome to python class')"
   ]
  },
  {
   "cell_type": "code",
   "execution_count": 2,
   "id": "3883b5e5",
   "metadata": {},
   "outputs": [
    {
     "name": "stdout",
     "output_type": "stream",
     "text": [
      "welcome to python class\n"
     ]
    }
   ],
   "source": [
    "greet()"
   ]
  },
  {
   "cell_type": "code",
   "execution_count": null,
   "id": "74b5ba5e",
   "metadata": {},
   "outputs": [],
   "source": [
    "def greet2(name): #functions with one parameter or argument\n",
    "    print(f'welcome to python class {name}')"
   ]
  },
  {
   "cell_type": "code",
   "execution_count": null,
   "id": "2db802c0",
   "metadata": {},
   "outputs": [],
   "source": [
    "greet2 ('victor')"
   ]
  },
  {
   "cell_type": "code",
   "execution_count": 3,
   "id": "81e8432b",
   "metadata": {},
   "outputs": [
    {
     "name": "stdout",
     "output_type": "stream",
     "text": [
      "hey my name is victor'\n",
      "i am a male'\n",
      "i am 19 years old'\n",
      "my height is 1.67 meters'\n",
      "my weight is 69kg'\n",
      "\n",
      "hey you are eligible to vote\n"
     ]
    }
   ],
   "source": [
    "def person(name,gender,age,height,weight):#Functions with more than one parameters or arguments\n",
    "    print(f'''hey my name is {name}'\n",
    "i am a {gender}'\n",
    "i am {age} years old'\n",
    "my height is {height} meters'\n",
    "my weight is {weight}kg'\n",
    "''')\n",
    "    if age >= 18:\n",
    "        print('hey you are eligible to vote')\n",
    "    else:\n",
    "        print('hey you are not eligible to vote')\n",
    "person('victor','male',19,1.67,69)"
   ]
  },
  {
   "cell_type": "code",
   "execution_count": 20,
   "id": "47d3bac8",
   "metadata": {},
   "outputs": [
    {
     "name": "stdout",
     "output_type": "stream",
     "text": [
      "['__doc__', '__loader__', '__name__', '__package__', '__spec__', 'acos', 'acosh', 'asin', 'asinh', 'atan', 'atan2', 'atanh', 'ceil', 'comb', 'copysign', 'cos', 'cosh', 'degrees', 'dist', 'e', 'erf', 'erfc', 'exp', 'expm1', 'fabs', 'factorial', 'floor', 'fmod', 'frexp', 'fsum', 'gamma', 'gcd', 'hypot', 'inf', 'isclose', 'isfinite', 'isinf', 'isnan', 'isqrt', 'ldexp', 'lgamma', 'log', 'log10', 'log1p', 'log2', 'modf', 'nan', 'perm', 'pi', 'pow', 'prod', 'radians', 'remainder', 'sin', 'sinh', 'sqrt', 'tan', 'tanh', 'tau', 'trunc']\n"
     ]
    }
   ],
   "source": [
    "import math\n",
    "print(dir(math))\n"
   ]
  },
  {
   "cell_type": "code",
   "execution_count": 55,
   "id": "3ccc1362",
   "metadata": {},
   "outputs": [
    {
     "name": "stdout",
     "output_type": "stream",
     "text": [
      "the savings at the end of the first year is 127199.0\n",
      "the savings at the end of the second year is 134831.00000000003\n",
      "the savings at the end of the third year is 142920.92\n"
     ]
    }
   ],
   "source": [
    "def compound_interest\n",
    " p = 5000\n",
    "i = 6/100\n",
    "n1 =1\n",
    "n2 =2\n",
    "n3 =3\n",
    "first_year_savings = (p*(1+i)**n1-1)\n",
    "print(f'the savings at the end of the first year is {first_year_savings}')\n",
    "second_year_savings = (p*(1+i)**n2-1)\n",
    "print(f'the savings at the end of the second year is {second_year_savings}')\n",
    "third_year_savings = (p*(1+i)**n3-1)\n",
    "print(f'the savings at the end of the third year is {third_year_savings}')"
   ]
  },
  {
   "cell_type": "code",
   "execution_count": 88,
   "id": "5be3ed3b",
   "metadata": {},
   "outputs": [
    {
     "name": "stdout",
     "output_type": "stream",
     "text": [
      "simple interest 54000.0\n"
     ]
    }
   ],
   "source": [
    "def simple_interest_calculation():\n",
    "    p = 120000\n",
    "    r = 7.5\n",
    "    t = 6\n",
    "    print(f'simple interest {((p*r*t)/100)}')\n",
    "simple_interest_calculation()"
   ]
  },
  {
   "cell_type": "code",
   "execution_count": 83,
   "id": "ff74f8bb",
   "metadata": {},
   "outputs": [],
   "source": []
  },
  {
   "cell_type": "code",
   "execution_count": null,
   "id": "d8a2faa3",
   "metadata": {},
   "outputs": [],
   "source": []
  }
 ],
 "metadata": {
  "kernelspec": {
   "display_name": "Python 3",
   "language": "python",
   "name": "python3"
  },
  "language_info": {
   "codemirror_mode": {
    "name": "ipython",
    "version": 3
   },
   "file_extension": ".py",
   "mimetype": "text/x-python",
   "name": "python",
   "nbconvert_exporter": "python",
   "pygments_lexer": "ipython3",
   "version": "3.8.8"
  }
 },
 "nbformat": 4,
 "nbformat_minor": 5
}
