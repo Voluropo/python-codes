{
 "cells": [
  {
   "cell_type": "code",
   "execution_count": 1,
   "id": "1c467ac3-9468-4055-a1e5-1c2fa2ed5375",
   "metadata": {},
   "outputs": [
    {
     "name": "stdout",
     "output_type": "stream",
     "text": [
      "['MAXYEAR', 'MINYEAR', '__builtins__', '__cached__', '__doc__', '__file__', '__loader__', '__name__', '__package__', '__spec__', 'date', 'datetime', 'datetime_CAPI', 'sys', 'time', 'timedelta', 'timezone', 'tzinfo']\n"
     ]
    }
   ],
   "source": [
    "import datetime\n",
    "print(dir(datetime))"
   ]
  },
  {
   "cell_type": "code",
   "execution_count": 3,
   "id": "195aaf15-f5eb-45f7-a6b5-dae78a028ffd",
   "metadata": {},
   "outputs": [],
   "source": [
    "current_date_time = datetime.datetime.now()"
   ]
  },
  {
   "cell_type": "code",
   "execution_count": 4,
   "id": "e6648bd4-a504-4c04-bca9-004945cfc873",
   "metadata": {},
   "outputs": [
    {
     "name": "stdout",
     "output_type": "stream",
     "text": [
      "2021-11-10 01:26:02.666866\n"
     ]
    }
   ],
   "source": [
    "print(current_date_time)"
   ]
  },
  {
   "cell_type": "code",
   "execution_count": 8,
   "id": "131744c7-77ea-44a7-9dba-b3b7bab4d0a8",
   "metadata": {},
   "outputs": [],
   "source": [
    "tdelta = datetime.timedelta(weeks = 2)\n",
    "due_date = current_date_time + tdelta"
   ]
  },
  {
   "cell_type": "code",
   "execution_count": 9,
   "id": "8325d1af-38e7-43b4-b900-efc48dfab35b",
   "metadata": {},
   "outputs": [
    {
     "name": "stdout",
     "output_type": "stream",
     "text": [
      "2021-11-24 01:26:02.666866\n"
     ]
    }
   ],
   "source": [
    "print(due_date)"
   ]
  },
  {
   "cell_type": "code",
   "execution_count": null,
   "id": "d0e98177-dea6-4595-a4f9-3762dbc8bb4d",
   "metadata": {},
   "outputs": [],
   "source": [
    "#### print('Welcome to Viks payment platform')\n",
    "print('to make school payments press 1')\n",
    "choice = int(input('please put in specified number:'))\n",
    "if choice == 1:\n",
    "    print(f'your current time {current_date_time}')\n",
    "    print(f'you have {due_date} till your payment deadline... kindly pay on time')\n",
    "else:\n",
    "    print('wrong input')\n"
   ]
  },
  {
   "cell_type": "code",
   "execution_count": 7,
   "id": "af3d6597-205e-47e3-a45e-b7d94586e479",
   "metadata": {},
   "outputs": [
    {
     "name": "stdin",
     "output_type": "stream",
     "text": [
      "enter your appointed date, (mm/dd/yy):  11/5/2022\n"
     ]
    },
    {
     "name": "stdout",
     "output_type": "stream",
     "text": [
      "you have 51 weeks  and 3 days until your appointment \n"
     ]
    }
   ],
   "source": [
    "#correction\n",
    "import datetime\n",
    "appointment = ''\n",
    "tnodays = 0\n",
    "nodays = 0\n",
    "noweeks = 0 \n",
    "current_date = datetime.date.today()\n",
    "appointment = input('enter your appointed date, (mm/dd/yy): ')\n",
    "con_appointment = datetime.datetime.strptime(appointment, '%m/%d/%Y').date()\n",
    "tnodays = con_appointment - current_date\n",
    "noweeks = tnodays.days//7\n",
    "nodays = tnodays.days %7\n",
    "\n",
    "print('you have %d weeks ' %noweeks + ' and %d days' %nodays + ' until your appointment ')"
   ]
  },
  {
   "cell_type": "code",
   "execution_count": null,
   "id": "3cd9a02a-f579-4c3f-976b-8efd97f33997",
   "metadata": {},
   "outputs": [],
   "source": []
  }
 ],
 "metadata": {
  "kernelspec": {
   "display_name": "Python 3",
   "language": "python",
   "name": "python3"
  },
  "language_info": {
   "codemirror_mode": {
    "name": "ipython",
    "version": 3
   },
   "file_extension": ".py",
   "mimetype": "text/x-python",
   "name": "python",
   "nbconvert_exporter": "python",
   "pygments_lexer": "ipython3",
   "version": "3.8.8"
  }
 },
 "nbformat": 4,
 "nbformat_minor": 5
}
